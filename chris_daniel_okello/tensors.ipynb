{
 "cells": [
  {
   "cell_type": "code",
   "execution_count": null,
   "id": "0c6201ad-4d33-4986-af11-648a72df9701",
   "metadata": {},
   "outputs": [],
   "source": [
    "!pip install torch"
   ]
  },
  {
   "cell_type": "code",
   "execution_count": 7,
   "id": "2ab118d7-c33c-4253-985a-c79b83f4f9b6",
   "metadata": {},
   "outputs": [],
   "source": [
    "import torch\n",
    "import numpy as np\n",
    "import pandas as pd"
   ]
  },
  {
   "cell_type": "markdown",
   "id": "c9936747-6c9b-49c6-9d21-e7096f63dac8",
   "metadata": {},
   "source": [
    "## Creating Tensors"
   ]
  },
  {
   "cell_type": "code",
   "execution_count": 5,
   "id": "75b26193-e27e-4c60-9100-38d7ca181d8e",
   "metadata": {},
   "outputs": [],
   "source": [
    "data = [[12, 200], [30, 4000]]\n",
    "\n",
    "x_data = torch.tensor(data)"
   ]
  },
  {
   "cell_type": "code",
   "execution_count": 6,
   "id": "ccd73af8-8f0d-475b-bbe5-1654007e17f0",
   "metadata": {},
   "outputs": [
    {
     "data": {
      "text/plain": [
       "tensor([[  12,  200],\n",
       "        [  30, 4000]])"
      ]
     },
     "execution_count": 6,
     "metadata": {},
     "output_type": "execute_result"
    }
   ],
   "source": [
    "x_data"
   ]
  },
  {
   "cell_type": "code",
   "execution_count": 8,
   "id": "bed84df0-3c4f-4dac-b541-1c62b978c038",
   "metadata": {},
   "outputs": [
    {
     "data": {
      "text/plain": [
       "tensor([[  12,  200],\n",
       "        [  30, 4000]])"
      ]
     },
     "execution_count": 8,
     "metadata": {},
     "output_type": "execute_result"
    }
   ],
   "source": [
    "np_array = np.array(data)\n",
    "x_np = torch.from_numpy(np_array)\n",
    "x_np"
   ]
  },
  {
   "cell_type": "code",
   "execution_count": 9,
   "id": "2cd9365f-e465-4c45-9575-184e89e3949d",
   "metadata": {},
   "outputs": [
    {
     "data": {
      "text/plain": [
       "tensor([[1, 1],\n",
       "        [1, 1]])"
      ]
     },
     "execution_count": 9,
     "metadata": {},
     "output_type": "execute_result"
    }
   ],
   "source": [
    "x_ones = torch.ones_like(x_np)\n",
    "x_ones"
   ]
  },
  {
   "cell_type": "code",
   "execution_count": 14,
   "id": "0afaf930-fa6f-47d6-b560-0d9c6c023f84",
   "metadata": {},
   "outputs": [
    {
     "data": {
      "text/plain": [
       "tensor([[0.2338, 0.1436, 0.8507],\n",
       "        [0.8137, 0.4382, 0.4563]])"
      ]
     },
     "execution_count": 14,
     "metadata": {},
     "output_type": "execute_result"
    }
   ],
   "source": [
    "shape = (2, 3)\n",
    "\n",
    "rand_tensor = torch.rand(shape)\n",
    "rand_tensor"
   ]
  },
  {
   "cell_type": "code",
   "execution_count": 15,
   "id": "f7f5fe44-1a98-40bd-9724-1d3c023da48e",
   "metadata": {},
   "outputs": [
    {
     "data": {
      "text/plain": [
       "tensor([[1., 1., 1.],\n",
       "        [1., 1., 1.]])"
      ]
     },
     "execution_count": 15,
     "metadata": {},
     "output_type": "execute_result"
    }
   ],
   "source": [
    "ones_tensor = torch.ones(shape)\n",
    "ones_tensor"
   ]
  },
  {
   "cell_type": "code",
   "execution_count": 16,
   "id": "439d42ee-453b-4df3-bb54-da19b6e2ff6e",
   "metadata": {},
   "outputs": [
    {
     "data": {
      "text/plain": [
       "tensor([[0., 0., 0.],\n",
       "        [0., 0., 0.]])"
      ]
     },
     "execution_count": 16,
     "metadata": {},
     "output_type": "execute_result"
    }
   ],
   "source": [
    "zeros_tensor = torch.zeros(shape)\n",
    "zeros_tensor"
   ]
  },
  {
   "cell_type": "markdown",
   "id": "c206f5a6-88a4-466f-a31a-a1113df5eb7f",
   "metadata": {},
   "source": [
    "## Tensor Attributes"
   ]
  },
  {
   "cell_type": "code",
   "execution_count": 17,
   "id": "f9f3f41a-124b-4310-88e9-bccf03677c10",
   "metadata": {},
   "outputs": [],
   "source": [
    "tensor_ = torch.rand(3, 3)"
   ]
  },
  {
   "cell_type": "code",
   "execution_count": 18,
   "id": "9a7e444e-6af8-452f-b02e-814f7051f934",
   "metadata": {},
   "outputs": [
    {
     "data": {
      "text/plain": [
       "tensor([[0.0395, 0.2699, 0.0760],\n",
       "        [0.8109, 0.1625, 0.9366],\n",
       "        [0.4921, 0.0884, 0.5562]])"
      ]
     },
     "execution_count": 18,
     "metadata": {},
     "output_type": "execute_result"
    }
   ],
   "source": [
    "tensor_"
   ]
  },
  {
   "cell_type": "code",
   "execution_count": 19,
   "id": "18069685-1eab-49ca-be9e-8a4ac7f6693a",
   "metadata": {},
   "outputs": [
    {
     "data": {
      "text/plain": [
       "torch.Size([3, 3])"
      ]
     },
     "execution_count": 19,
     "metadata": {},
     "output_type": "execute_result"
    }
   ],
   "source": [
    "tensor_.shape"
   ]
  },
  {
   "cell_type": "code",
   "execution_count": 20,
   "id": "9ea23cf4-7b5c-4dca-a543-17d841009f7a",
   "metadata": {},
   "outputs": [
    {
     "data": {
      "text/plain": [
       "torch.float32"
      ]
     },
     "execution_count": 20,
     "metadata": {},
     "output_type": "execute_result"
    }
   ],
   "source": [
    "tensor_.dtype"
   ]
  },
  {
   "cell_type": "markdown",
   "id": "45f275d7-d9bf-426b-9df4-99166d29edb2",
   "metadata": {},
   "source": [
    "## Operations on Tensors"
   ]
  },
  {
   "cell_type": "code",
   "execution_count": 23,
   "id": "beee3867-95c4-4b2a-a826-62289d9454b2",
   "metadata": {},
   "outputs": [
    {
     "data": {
      "text/plain": [
       "tensor([[0.4992, 0.8771, 0.1229, 0.9377],\n",
       "        [0.8887, 0.8682, 0.3100, 0.4700],\n",
       "        [0.1371, 0.7604, 0.1291, 0.3892],\n",
       "        [0.9708, 0.3269, 0.5685, 0.4741]])"
      ]
     },
     "execution_count": 23,
     "metadata": {},
     "output_type": "execute_result"
    }
   ],
   "source": [
    "tensor_ = torch.rand(4, 4)\n",
    "tensor_"
   ]
  },
  {
   "cell_type": "markdown",
   "id": "1e56483f-0a5b-406f-b3b8-178e8059d146",
   "metadata": {},
   "source": [
    "### Indexing and Slicing"
   ]
  },
  {
   "cell_type": "code",
   "execution_count": 31,
   "id": "c30501f6-3768-4594-9518-86590843437f",
   "metadata": {},
   "outputs": [
    {
     "data": {
      "text/plain": [
       "tensor([0.4992, 0.8771, 0.1229, 0.9377])"
      ]
     },
     "execution_count": 31,
     "metadata": {},
     "output_type": "execute_result"
    }
   ],
   "source": [
    "# get row\n",
    "tensor_[0]"
   ]
  },
  {
   "cell_type": "code",
   "execution_count": 32,
   "id": "6fe5941d-102e-4c6d-916d-02313a996ef9",
   "metadata": {},
   "outputs": [
    {
     "data": {
      "text/plain": [
       "tensor([0.9708, 0.3269, 0.5685, 0.4741])"
      ]
     },
     "execution_count": 32,
     "metadata": {},
     "output_type": "execute_result"
    }
   ],
   "source": [
    "# get a row\n",
    "tensor_[-1]"
   ]
  },
  {
   "cell_type": "code",
   "execution_count": 27,
   "id": "14c56728-3474-4a7f-bb7c-2813b433cfdb",
   "metadata": {},
   "outputs": [
    {
     "data": {
      "text/plain": [
       "tensor([0.4992, 0.8887, 0.1371, 0.9708])"
      ]
     },
     "execution_count": 27,
     "metadata": {},
     "output_type": "execute_result"
    }
   ],
   "source": [
    "# get a column\n",
    "tensor_[:, 0]"
   ]
  },
  {
   "cell_type": "code",
   "execution_count": 29,
   "id": "c484114a-79d6-413b-8b79-73fe71b25bd3",
   "metadata": {},
   "outputs": [
    {
     "data": {
      "text/plain": [
       "tensor([0.1229, 0.3100, 0.1291, 0.5685])"
      ]
     },
     "execution_count": 29,
     "metadata": {},
     "output_type": "execute_result"
    }
   ],
   "source": [
    "tensor_[..., -2]"
   ]
  },
  {
   "cell_type": "markdown",
   "id": "641e581b-3b7e-463d-b69b-41432095e089",
   "metadata": {},
   "source": [
    "**Exercise:**\n",
    "\n",
    "- How can you join two or more tesors along a given dimension?"
   ]
  },
  {
   "cell_type": "markdown",
   "id": "06a500e8-8302-4219-9272-b12d257dbd5e",
   "metadata": {},
   "source": [
    "## Arithmetic Operations"
   ]
  },
  {
   "cell_type": "code",
   "execution_count": 42,
   "id": "ee4be38c-0660-4385-9cab-ce8fe42f5116",
   "metadata": {},
   "outputs": [
    {
     "name": "stdout",
     "output_type": "stream",
     "text": [
      "tensor([[1, 2],\n",
      "        [3, 4]])\n",
      "tensor([[2, 3],\n",
      "        [4, 5]])\n"
     ]
    }
   ],
   "source": [
    "tensor1 = torch.tensor([[1, 2], [3, 4]])\n",
    "tensor2 = torch.tensor([[2, 3], [4, 5]])\n",
    "\n",
    "print(tensor1)\n",
    "print(tensor2)"
   ]
  },
  {
   "cell_type": "markdown",
   "id": "81365898-aa61-4fd6-80ff-a2351627e16c",
   "metadata": {},
   "source": [
    "### Multiplication"
   ]
  },
  {
   "cell_type": "code",
   "execution_count": 39,
   "id": "e283b044-9c13-4afc-8762-1b081a409b71",
   "metadata": {},
   "outputs": [
    {
     "data": {
      "text/plain": [
       "tensor([[ 2,  6],\n",
       "        [12, 20]])"
      ]
     },
     "execution_count": 39,
     "metadata": {},
     "output_type": "execute_result"
    }
   ],
   "source": [
    "product = tensor1 * tensor2\n",
    "product"
   ]
  },
  {
   "cell_type": "code",
   "execution_count": 40,
   "id": "96b8b5ae-7ec8-4d41-8a41-7db83b20f999",
   "metadata": {},
   "outputs": [
    {
     "data": {
      "text/plain": [
       "tensor([[ 2,  6],\n",
       "        [12, 20]])"
      ]
     },
     "execution_count": 40,
     "metadata": {},
     "output_type": "execute_result"
    }
   ],
   "source": [
    "tensor1.mul(tensor2)"
   ]
  },
  {
   "cell_type": "markdown",
   "id": "466c7298-e45b-40ad-a980-629d5f6ef3cd",
   "metadata": {},
   "source": []
  },
  {
   "cell_type": "code",
   "execution_count": 41,
   "id": "22b0416a-2b45-4708-b653-63034bac30a9",
   "metadata": {},
   "outputs": [
    {
     "data": {
      "text/plain": [
       "tensor([[10, 13],\n",
       "        [22, 29]])"
      ]
     },
     "execution_count": 41,
     "metadata": {},
     "output_type": "execute_result"
    }
   ],
   "source": [
    "tensor1 @ tensor2"
   ]
  },
  {
   "cell_type": "code",
   "execution_count": 43,
   "id": "322c42ff-5671-459a-a6eb-9c9250690b9e",
   "metadata": {},
   "outputs": [
    {
     "data": {
      "text/plain": [
       "tensor([[10, 13],\n",
       "        [22, 29]])"
      ]
     },
     "execution_count": 43,
     "metadata": {},
     "output_type": "execute_result"
    }
   ],
   "source": [
    "tensor1.matmul(tensor2)"
   ]
  },
  {
   "cell_type": "code",
   "execution_count": 45,
   "id": "9bf26d4d-3be1-4886-8238-bfc3461b319a",
   "metadata": {},
   "outputs": [],
   "source": [
    "sum_ = tensor1.sum()"
   ]
  },
  {
   "cell_type": "code",
   "execution_count": 47,
   "id": "265698c8-fc10-41b4-a101-23c3c0df5cb3",
   "metadata": {},
   "outputs": [
    {
     "name": "stdout",
     "output_type": "stream",
     "text": [
      "tensor(10)\n"
     ]
    }
   ],
   "source": [
    "print(sum_)"
   ]
  },
  {
   "cell_type": "code",
   "execution_count": 49,
   "id": "4a37edd5-586a-432b-8a43-50945fb527c0",
   "metadata": {},
   "outputs": [
    {
     "data": {
      "text/plain": [
       "10"
      ]
     },
     "execution_count": 49,
     "metadata": {},
     "output_type": "execute_result"
    }
   ],
   "source": [
    "sum_.item()"
   ]
  },
  {
   "cell_type": "markdown",
   "id": "ff9be8b2-422e-494d-af82-9a8d867d4599",
   "metadata": {},
   "source": [
    "**Exercise:**\n",
    "\n",
    "- What are In-place operations, demonstrate with some examples."
   ]
  },
  {
   "cell_type": "markdown",
   "id": "9d906275-ac69-4269-ba2f-5aa15a7b5ccf",
   "metadata": {},
   "source": [
    "## Bridge with Numpy"
   ]
  },
  {
   "cell_type": "code",
   "execution_count": 50,
   "id": "b2ef78e2-62da-4080-8cdf-fb733cd278c0",
   "metadata": {},
   "outputs": [],
   "source": [
    "tensor3 = torch.ones(5)"
   ]
  },
  {
   "cell_type": "code",
   "execution_count": 52,
   "id": "58523c54-db41-4a99-b36c-18162b90e960",
   "metadata": {},
   "outputs": [],
   "source": [
    "numpy_arr = tensor3.numpy()"
   ]
  },
  {
   "cell_type": "code",
   "execution_count": 53,
   "id": "6a27f64d-e646-4d7d-8383-a71cd8f95d71",
   "metadata": {},
   "outputs": [
    {
     "data": {
      "text/plain": [
       "tensor([2., 2., 2., 2., 2.])"
      ]
     },
     "execution_count": 53,
     "metadata": {},
     "output_type": "execute_result"
    }
   ],
   "source": [
    "tensor3.add_(1)"
   ]
  },
  {
   "cell_type": "code",
   "execution_count": 54,
   "id": "de991ad0-5b90-48c0-9017-12d4b0d6e0f8",
   "metadata": {},
   "outputs": [
    {
     "data": {
      "text/plain": [
       "array([2., 2., 2., 2., 2.], dtype=float32)"
      ]
     },
     "execution_count": 54,
     "metadata": {},
     "output_type": "execute_result"
    }
   ],
   "source": [
    "numpy_arr"
   ]
  },
  {
   "cell_type": "code",
   "execution_count": null,
   "id": "48b512de-2e81-408a-98ef-e52085a132dc",
   "metadata": {},
   "outputs": [],
   "source": []
  }
 ],
 "metadata": {
  "kernelspec": {
   "display_name": "Python 3 (ipykernel)",
   "language": "python",
   "name": "python3"
  },
  "language_info": {
   "codemirror_mode": {
    "name": "ipython",
    "version": 3
   },
   "file_extension": ".py",
   "mimetype": "text/x-python",
   "name": "python",
   "nbconvert_exporter": "python",
   "pygments_lexer": "ipython3",
   "version": "3.10.12"
  }
 },
 "nbformat": 4,
 "nbformat_minor": 5
}
