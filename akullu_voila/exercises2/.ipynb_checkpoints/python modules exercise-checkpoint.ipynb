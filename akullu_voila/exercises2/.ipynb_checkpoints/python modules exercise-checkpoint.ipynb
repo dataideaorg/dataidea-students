{
 "cells": [
  {
   "cell_type": "code",
   "execution_count": 6,
   "id": "505a7546",
   "metadata": {},
   "outputs": [
    {
     "data": {
      "text/plain": [
       "4.0"
      ]
     },
     "execution_count": 6,
     "metadata": {},
     "output_type": "execute_result"
    }
   ],
   "source": [
    "import math\n",
    "number = 16\n",
    "sqrt_number = math.sqrt(number)\n",
    "sqrt_number"
   ]
  },
  {
   "cell_type": "code",
   "execution_count": 12,
   "id": "303dcc4c",
   "metadata": {},
   "outputs": [
    {
     "name": "stdout",
     "output_type": "stream",
     "text": [
      "9\n"
     ]
    }
   ],
   "source": [
    "import random\n",
    "random_num = random.randint(1,10)\n",
    "print(random_num)"
   ]
  },
  {
   "cell_type": "code",
   "execution_count": 20,
   "id": "8f3eafb5",
   "metadata": {},
   "outputs": [
    {
     "name": "stdout",
     "output_type": "stream",
     "text": [
      "Formatted date and time today: 2024-04-29 13:21:26\n"
     ]
    }
   ],
   "source": [
    "import datetime\n",
    "\n",
    "Today_date_time = datetime.datetime.now()\n",
    "\n",
    "formatted_date_time = Today_date_time.strftime(\"%Y-%m-%d %H:%M:%S\")\n",
    "\n",
    "print(\"Formatted date and time today:\", formatted_date_time)"
   ]
  },
  {
   "cell_type": "code",
   "execution_count": 27,
   "id": "d71a17cd",
   "metadata": {},
   "outputs": [
    {
     "name": "stdout",
     "output_type": "stream",
     "text": [
      "['violaakullu@gmail.com', 'vivvee345@gmail.com', 'jumashafara@gmail.com']\n"
     ]
    }
   ],
   "source": [
    "import re\n",
    "\n",
    "text =  'i sent an email to violaakullu@gmail.com and vivvee345@gmail.com instructing them to forward the content to jumashafara@gmail.com'\n",
    "\n",
    "pattern = r'\\b[A-Za-z0-9._%+-]+@[A-Za-z0-9.-]+\\.[A-Z|a-z]{2,}\\b'\n",
    "\n",
    "email_addresses = re.findall(pattern, text)\n",
    "\n",
    "print(email_addresses)\n"
   ]
  },
  {
   "cell_type": "code",
   "execution_count": 24,
   "id": "9ddf6199",
   "metadata": {},
   "outputs": [
    {
     "name": "stdout",
     "output_type": "stream",
     "text": [
      "{'name': 'John', 'ag': 30, 'city': 'New York'}\n"
     ]
    }
   ],
   "source": [
    "import json\n",
    "json_data = '{\"name\": \"John\",\"ag\": 30, \"city\": \"New York\"}'\n",
    "\n",
    "python_dict = json.loads(json_data)\n",
    "\n",
    "print(python_dict)"
   ]
  }
 ],
 "metadata": {
  "kernelspec": {
   "display_name": "Python 3 (ipykernel)",
   "language": "python",
   "name": "python3"
  },
  "language_info": {
   "codemirror_mode": {
    "name": "ipython",
    "version": 3
   },
   "file_extension": ".py",
   "mimetype": "text/x-python",
   "name": "python",
   "nbconvert_exporter": "python",
   "pygments_lexer": "ipython3",
   "version": "3.11.5"
  }
 },
 "nbformat": 4,
 "nbformat_minor": 5
}
