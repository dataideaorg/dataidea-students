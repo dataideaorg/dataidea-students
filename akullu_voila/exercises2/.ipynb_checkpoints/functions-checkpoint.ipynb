{
 "cells": [
  {
   "cell_type": "code",
   "execution_count": null,
   "id": "f8e2916a",
   "metadata": {},
   "outputs": [
    {
     "data": {
      "text/plain": [
       "'odd'"
      ]
     },
     "execution_count": null,
     "metadata": {},
     "output_type": "execute_result"
    }
   ],
   "source": [
    "#even or odd\n",
    "def evenorodd(number):\n",
    "    if number%2==0:\n",
    "      return 'even'\n",
    "    else:\n",
    "      return 'odd'\n",
    "evenorodd(5)"
   ]
  },
  {
   "cell_type": "code",
   "execution_count": null,
   "id": "746fa5ed",
   "metadata": {},
   "outputs": [
    {
     "data": {
      "text/plain": [
       "6"
      ]
     },
     "execution_count": null,
     "metadata": {},
     "output_type": "execute_result"
    }
   ],
   "source": [
    "#maxOfTwo\n",
    "def maxOfTwo(num1,num2):\n",
    "    if num1>num2:\n",
    "        return num1\n",
    "    else:\n",
    "        return num2\n",
    "maxOfTwo(5,6)"
   ]
  },
  {
   "cell_type": "code",
   "execution_count": null,
   "id": "55a2c9ba",
   "metadata": {},
   "outputs": [
    {
     "data": {
      "text/plain": [
       "'Not leap year'"
      ]
     },
     "execution_count": null,
     "metadata": {},
     "output_type": "execute_result"
    }
   ],
   "source": [
    "#Leap year checker\n",
    "def isLeapYear(year):\n",
    "    if (year%4==0 and year%100!=0 or year%400==0):\n",
    "        return 'leap year'\n",
    "    else:\n",
    "        return 'Not leap year'\n",
    "isLeapYear(1900)"
   ]
  },
  {
   "cell_type": "code",
   "execution_count": null,
   "id": "56fc33bc",
   "metadata": {},
   "outputs": [
    {
     "data": {
      "text/plain": [
       "6"
      ]
     },
     "execution_count": null,
     "metadata": {},
     "output_type": "execute_result"
    }
   ],
   "source": [
    "#factorial Calculator\n",
    "def factorialCalculator(num):\n",
    "    if num==1:\n",
    "        return num\n",
    "    else:\n",
    "        return num*(factorialCalculator(num-1))\n",
    "factorialCalculator(3)\n",
    "        "
   ]
  },
  {
   "cell_type": "code",
   "execution_count": null,
   "id": "bc6f485e",
   "metadata": {},
   "outputs": [
    {
     "data": {
      "text/plain": [
       "6"
      ]
     },
     "execution_count": null,
     "metadata": {},
     "output_type": "execute_result"
    }
   ],
   "source": [
    "def gcd(a,b):\n",
    "    while b!=0:\n",
    "        a,b = b,a%b\n",
    "        return a\n",
    "gcd(3,6)\n"
   ]
  },
  {
   "cell_type": "code",
   "execution_count": null,
   "id": "34232860",
   "metadata": {},
   "outputs": [
    {
     "data": {
      "text/plain": [
       "4"
      ]
     },
     "execution_count": null,
     "metadata": {},
     "output_type": "execute_result"
    }
   ],
   "source": [
    "#absolute value\n",
    "def absoluteValue(num):\n",
    "    if num<0:\n",
    "        return -num\n",
    "    else:\n",
    "        return num\n",
    "absoluteValue(-4)"
   ]
  },
  {
   "cell_type": "code",
   "execution_count": null,
   "id": "f89c8b3c",
   "metadata": {},
   "outputs": [
    {
     "data": {
      "text/plain": [
       "86.0"
      ]
     },
     "execution_count": null,
     "metadata": {},
     "output_type": "execute_result"
    }
   ],
   "source": [
    "#temperature converter\n",
    "def convertTemp(celcius):\n",
    "    Farenheit = (celcius*(9/5))+32\n",
    "    return Farenheit\n",
    "\n",
    "convertTemp(30)"
   ]
  },
  {
   "cell_type": "code",
   "execution_count": null,
   "id": "c3638637",
   "metadata": {},
   "outputs": [
    {
     "data": {
      "text/plain": [
       "'B'"
      ]
     },
     "execution_count": null,
     "metadata": {},
     "output_type": "execute_result"
    }
   ],
   "source": [
    "#Grade calculator\n",
    "def calculateGrade(score):\n",
    "    if score >= 90:\n",
    "        return 'A'\n",
    "    elif score >= 80:\n",
    "        return 'B'\n",
    "    elif score >=70:\n",
    "        return 'C'\n",
    "    elif score >= 60:\n",
    "        return 'D'\n",
    "    elif score <= 59:\n",
    "        return 'F'\n",
    "calculateGrade(89)  \n",
    "    "
   ]
  },
  {
   "cell_type": "code",
   "execution_count": null,
   "id": "7cd020f6",
   "metadata": {},
   "outputs": [
    {
     "data": {
      "text/plain": [
       "30"
      ]
     },
     "execution_count": null,
     "metadata": {},
     "output_type": "execute_result"
    }
   ],
   "source": [
    "# calcculate sum of squares\n",
    "def sumOfSquares(n):\n",
    "    sum = 0\n",
    "    for number in range(0,n+1):\n",
    "        sum += number*number\n",
    "    return sum\n",
    "sumOfSquares(4)"
   ]
  },
  {
   "cell_type": "code",
   "execution_count": null,
   "id": "24bf717e",
   "metadata": {},
   "outputs": [
    {
     "data": {
      "text/plain": [
       "(-2.0, -6.0)"
      ]
     },
     "execution_count": null,
     "metadata": {},
     "output_type": "execute_result"
    }
   ],
   "source": [
    "#Quadratic equation solve\n",
    "def solveQuadratic(a,b,c):\n",
    "        discriminant = b**2-4*a*c\n",
    "        if discriminant > 0:\n",
    "            root1 = (-b+(discriminant)**0.5/(2*a))\n",
    "            root2 = (-b-(discriminant)**0.5/(2*a))\n",
    "            return (root1,root2)\n",
    "        elif discriminant == 0:\n",
    "            root = -b/2*a\n",
    "            return (root,root)\n",
    "        elif discriminant < 0:\n",
    "            return 'None'\n",
    "solveQuadratic(1,4,0) \n",
    "    "
   ]
  },
  {
   "cell_type": "code",
   "execution_count": null,
   "id": "ff1393cf",
   "metadata": {},
   "outputs": [
    {
     "name": "stdout",
     "output_type": "stream",
     "text": [
      "20\n"
     ]
    }
   ],
   "source": []
  }
 ],
 "metadata": {
  "kernelspec": {
   "display_name": "python3",
   "language": "python",
   "name": "python3"
  }
 },
 "nbformat": 4,
 "nbformat_minor": 5
}
