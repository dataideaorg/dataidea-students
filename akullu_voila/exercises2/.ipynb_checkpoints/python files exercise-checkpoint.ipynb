{
 "cells": [
  {
   "cell_type": "code",
   "execution_count": 9,
   "id": "7b4858a5",
   "metadata": {},
   "outputs": [
    {
     "name": "stdout",
     "output_type": "stream",
     "text": [
      " when updating the course materials shafara made changes bananas to ornages.\n",
      "so there was a ststement saying, Viola likes shafaras oranges.\n",
      "oh God , this is so funny i feel like adding laughing emojis.\n",
      "hahahahaha haaahaaa.\n",
      "okay this is the end.\n",
      "\n"
     ]
    }
   ],
   "source": [
    "with open('example.txt', 'w') as file:\n",
    "    file.write(' when updating the course materials shafara made changes bananas to ornages.\\n')\n",
    "    file.write('so there was a ststement saying, Viola likes shafaras oranges.\\n')\n",
    "\n",
    "with open(\"example.txt\", \"a\") as file:  \n",
    "    file.write('oh God , this is so funny i feel like adding laughing emojis.\\n')\n",
    "    file.write('hahahahaha haaahaaa.\\n')\n",
    "    file.write('okay this is the end.\\n')\n",
    "\n",
    "with open(\"example.txt\", \"r\") as file:\n",
    "    file_content = file.read() \n",
    "    print(file_content)\n",
    "    \n",
    "import os\n",
    "\n",
    "os.remove(\"example.txt\")"
   ]
  }
 ],
 "metadata": {
  "kernelspec": {
   "display_name": "Python 3 (ipykernel)",
   "language": "python",
   "name": "python3"
  },
  "language_info": {
   "codemirror_mode": {
    "name": "ipython",
    "version": 3
   },
   "file_extension": ".py",
   "mimetype": "text/x-python",
   "name": "python",
   "nbconvert_exporter": "python",
   "pygments_lexer": "ipython3",
   "version": "3.11.5"
  }
 },
 "nbformat": 4,
 "nbformat_minor": 5
}
