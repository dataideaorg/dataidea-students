{
 "cells": [
  {
   "cell_type": "code",
   "execution_count": null,
   "id": "d961cbca",
   "metadata": {},
   "outputs": [],
   "source": [
    "# # # what are the fundamental  components of a Python program, and how does Python execute code?\n",
    "# # 1) expressions, are legal combination of symbols that represents a value\n",
    "# # 2)comments, are additional readable information to give mor insights about the codes\n",
    "# # 3)statements, are insbtructions that are executed by the python interpreter\n",
    "# # 4) Function, are codes that have a name and can be reused to execute a specific task\n",
    "# # 5)blocks and indentions, these are a group of statements\n",
    "# # 6)operators, are symbols or keywords that perform mathematical, logicalor comparison operations on data\n",
    "# # # 7)variables, are used to store data on a python program\n",
    "# # 8)datatypes, are particuar kinds of data items as defined by the values they can take \n",
    "# # 9)control structures, are used to control the flow of a python programeg the if statments, and the lops\n",
    "\n",
    "\n",
    "# # # how python execute its codes\n",
    "# # python interpreter reads and executes the codes line by line\n",
    "\n",
    "# #Explain the differences between mutable and immutable data types in Python and provide \n",
    "# #examples of each\n",
    "\n",
    "# #Mutable data types are those whose values can be modified after they are created.\n",
    "# #examples are dictionaries, sets, lists\n",
    "\n",
    "# #Immutable data types are those whose values cannot be modified after they are created.\n",
    "# #strings, tuples\n",
    "\n",
    "# # #Discuss the importance of operator precedence in Python and how it impacts the evaluation of expressions.\n",
    "# # operation precedence refers to the rules that determine the order in which operators are evaluated in an expression\n",
    "# # it follows PEMDAS which stands for; parentheses,exponents, multiplications,division, addition and subtraction\n",
    "\n",
    "# #Compare and contrast the usage of lists, tuples, sets, and dictionaries in Python, highlighting their key characteristics \n",
    "# #and when to use each.\n",
    "# lists are oordered mutable containers, they are created using square brackets\n",
    "# use lists when you need duplicate objects in your container\n",
    "# sets are unordered mutable containers, they are created using curly brackets\n",
    "# sets do not allow duplicate elements, each element must be unique\n",
    "# # Use sets when you need to store a collection of unique items and don't care about the order of elements\n",
    "# Tuples are ordered immutable collections of objects.they are created using parentheses\n",
    "# they are used when you need ordered collection of items that do not change over time\n",
    "# Dictionaries are ordered mutable containers created using curly brackets\n",
    "# dictionary objects are presented in a pair of a key and the value,its values can be duplicated\n",
    "# its values are accessed using keys ratherthan indexes\n",
    "# use a dictionary when you want to store data as key value pairs"
   ]
  },
  {
   "cell_type": "code",
   "execution_count": 10,
   "id": "7543c599",
   "metadata": {},
   "outputs": [
    {
     "name": "stdout",
     "output_type": "stream",
     "text": [
      "Enter number of slices:4\n",
      "Enter number of guests:8\n",
      "Number of pizzas needed: 4.0\n"
     ]
    }
   ],
   "source": [
    "def NumberOfPizza(numberOfSlices,NumberOfGuests):\n",
    "\n",
    "    TotalNumberOfSlices = numberOfSlices * NumberOfGuests\n",
    "\n",
    "    TotalNumberOfPizza = TotalNumberOfSlices/8\n",
    "\n",
    "    return TotalNumberOfPizza\n",
    "\n",
    "numberOfSlices =int(input('Enter number of slices:'))\n",
    "NumberOfGuests = int(input('Enter number of guests:'))\n",
    "\n",
    "total_pizza = NumberOfPizza(numberOfSlices, NumberOfGuests)\n",
    "print('Number of pizzas needed:', total_pizza)\n"
   ]
  },
  {
   "cell_type": "code",
   "execution_count": null,
   "id": "8bd2e8b3",
   "metadata": {},
   "outputs": [],
   "source": []
  }
 ],
 "metadata": {
  "kernelspec": {
   "display_name": "Python 3 (ipykernel)",
   "language": "python",
   "name": "python3"
  },
  "language_info": {
   "codemirror_mode": {
    "name": "ipython",
    "version": 3
   },
   "file_extension": ".py",
   "mimetype": "text/x-python",
   "name": "python",
   "nbconvert_exporter": "python",
   "pygments_lexer": "ipython3",
   "version": "3.11.5"
  }
 },
 "nbformat": 4,
 "nbformat_minor": 5
}
