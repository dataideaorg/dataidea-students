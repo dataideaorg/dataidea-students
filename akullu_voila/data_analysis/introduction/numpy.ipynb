{
 "cells": [
  {
   "cell_type": "markdown",
   "metadata": {},
   "source": [
    "### Inspecting our arrays"
   ]
  },
  {
   "cell_type": "code",
   "execution_count": 2,
   "metadata": {},
   "outputs": [],
   "source": [
    "import numpy as np"
   ]
  },
  {
   "cell_type": "code",
   "execution_count": 3,
   "metadata": {},
   "outputs": [],
   "source": [
    "num_arr = np.array([1, 2, 3, 4])"
   ]
  },
  {
   "cell_type": "code",
   "execution_count": 5,
   "metadata": {},
   "outputs": [
    {
     "data": {
      "text/plain": [
       "(4,)"
      ]
     },
     "execution_count": 5,
     "metadata": {},
     "output_type": "execute_result"
    }
   ],
   "source": [
    "# shape of array\n",
    "num_arr.shape"
   ]
  },
  {
   "cell_type": "code",
   "execution_count": 6,
   "metadata": {},
   "outputs": [
    {
     "data": {
      "text/plain": [
       "4"
      ]
     },
     "execution_count": 6,
     "metadata": {},
     "output_type": "execute_result"
    }
   ],
   "source": [
    "# number of elements in array\n",
    "len(num_arr)"
   ]
  },
  {
   "cell_type": "code",
   "execution_count": 10,
   "metadata": {},
   "outputs": [
    {
     "data": {
      "text/plain": [
       "'int64'"
      ]
     },
     "execution_count": 10,
     "metadata": {},
     "output_type": "execute_result"
    }
   ],
   "source": [
    "# finding data type\n",
    "num_arr.dtype.name"
   ]
  },
  {
   "cell_type": "code",
   "execution_count": 11,
   "metadata": {},
   "outputs": [
    {
     "name": "stdout",
     "output_type": "stream",
     "text": [
      "[1 3 7]\n",
      "int64\n"
     ]
    }
   ],
   "source": [
    "# converting an array\n",
    "float_arr = np.array([1.2, 3.5, 7.0])\n",
    "int_arr = float_arr.astype(int)\n",
    "print(int_arr)\n",
    "print(int_arr.dtype)"
   ]
  },
  {
   "cell_type": "markdown",
   "metadata": {},
   "source": [
    "### Ask for help"
   ]
  },
  {
   "cell_type": "code",
   "execution_count": 13,
   "metadata": {},
   "outputs": [
    {
     "name": "stdout",
     "output_type": "stream",
     "text": [
      "Tuple of array dimensions.\n",
      "\n",
      "The shape property is usually used to get the current shape of an array,\n",
      "but may also be used to reshape the array in-place by assigning a tuple of\n",
      "array dimensions to it.  As with `numpy.reshape`, one of the new shape\n",
      "dimensions can be -1, in which case its value is inferred from the size of\n",
      "the array and the remaining dimensions. Reshaping an array in-place will\n",
      "fail if a copy is required.\n",
      "\n",
      ".. warning::\n",
      "\n",
      "    Setting ``arr.shape`` is discouraged and may be deprecated in the\n",
      "    future.  Using `ndarray.reshape` is the preferred approach.\n",
      "\n",
      "Examples\n",
      "--------\n",
      ">>> x = np.array([1, 2, 3, 4])\n",
      ">>> x.shape\n",
      "(4,)\n",
      ">>> y = np.zeros((2, 3, 4))\n",
      ">>> y.shape\n",
      "(2, 3, 4)\n",
      ">>> y.shape = (3, 8)\n",
      ">>> y\n",
      "array([[ 0.,  0.,  0.,  0.,  0.,  0.,  0.,  0.],\n",
      "       [ 0.,  0.,  0.,  0.,  0.,  0.,  0.,  0.],\n",
      "       [ 0.,  0.,  0.,  0.,  0.,  0.,  0.,  0.]])\n",
      ">>> y.shape = (3, 6)\n",
      "Traceback (most recent call last):\n",
      "  File \"<stdin>\", line 1, in <module>\n",
      "ValueError: total size of new array must be unchanged\n",
      ">>> np.zeros((4,2))[::2].shape = (-1,)\n",
      "Traceback (most recent call last):\n",
      "  File \"<stdin>\", line 1, in <module>\n",
      "AttributeError: Incompatible shape for in-place modification. Use\n",
      "`.reshape()` to make a copy with the desired shape.\n",
      "\n",
      "See Also\n",
      "--------\n",
      "numpy.shape : Equivalent getter function.\n",
      "numpy.reshape : Function similar to setting ``shape``.\n",
      "ndarray.reshape : Method similar to setting ``shape``.\n"
     ]
    }
   ],
   "source": [
    "np.info(np.ndarray.shape)"
   ]
  },
  {
   "cell_type": "markdown",
   "metadata": {},
   "source": [
    "# Array mathematics"
   ]
  },
  {
   "cell_type": "markdown",
   "metadata": {},
   "source": [
    "#### Arithmetic Operations"
   ]
  },
  {
   "cell_type": "code",
   "execution_count": 14,
   "metadata": {},
   "outputs": [],
   "source": [
    "a = np.array([1, 4, 6, 7])\n",
    "b = np.array([3, 5, 3, 1])"
   ]
  },
  {
   "cell_type": "code",
   "execution_count": 22,
   "metadata": {},
   "outputs": [
    {
     "name": "stdout",
     "output_type": "stream",
     "text": [
      "diff1 = [-2 -1  3  6]\n",
      "diff2 = [-2 -1  3  6]\n"
     ]
    }
   ],
   "source": [
    "# subtract\n",
    "diff1 = a - b\n",
    "print('diff1 =', diff1)\n",
    "diff2 = np.subtract(a, b)\n",
    "print('diff2 =', diff2)"
   ]
  },
  {
   "cell_type": "code",
   "execution_count": 23,
   "metadata": {},
   "outputs": [
    {
     "name": "stdout",
     "output_type": "stream",
     "text": [
      "sum1 = [4 9 9 8]\n",
      "sum2 = [4 9 9 8]\n"
     ]
    }
   ],
   "source": [
    "# sum\n",
    "sum1 = a + b\n",
    "print('sum1 =', sum1)\n",
    "sum2 = np.add(a, b)\n",
    "print('sum2 =', sum2)"
   ]
  },
  {
   "cell_type": "code",
   "execution_count": 24,
   "metadata": {},
   "outputs": [
    {
     "name": "stdout",
     "output_type": "stream",
     "text": [
      "sin(a) = [ 0.84147098 -0.7568025  -0.2794155   0.6569866 ]\n",
      "cos(a) = [ 0.54030231 -0.65364362  0.96017029  0.75390225]\n",
      "log(a) = [0.         1.38629436 1.79175947 1.94591015]\n"
     ]
    }
   ],
   "source": [
    "# sin\n",
    "print('sin(a) =', np.sin(a))\n",
    "# cos\n",
    "print('cos(a) =', np.cos(a))\n",
    "# log\n",
    "print('log(a) =', np.log(a))"
   ]
  },
  {
   "cell_type": "code",
   "execution_count": 25,
   "metadata": {},
   "outputs": [
    {
     "data": {
      "text/plain": [
       "48"
      ]
     },
     "execution_count": 25,
     "metadata": {},
     "output_type": "execute_result"
    }
   ],
   "source": [
    "# dot product\n",
    "a.dot(b)"
   ]
  },
  {
   "cell_type": "code",
   "execution_count": 26,
   "metadata": {},
   "outputs": [
    {
     "data": {
      "text/plain": [
       "array([False, False, False, False])"
      ]
     },
     "execution_count": 26,
     "metadata": {},
     "output_type": "execute_result"
    }
   ],
   "source": [
    "a == b"
   ]
  },
  {
   "cell_type": "code",
   "execution_count": 27,
   "metadata": {},
   "outputs": [
    {
     "data": {
      "text/plain": [
       "array([False,  True,  True,  True])"
      ]
     },
     "execution_count": 27,
     "metadata": {},
     "output_type": "execute_result"
    }
   ],
   "source": [
    "a > 3"
   ]
  },
  {
   "cell_type": "markdown",
   "metadata": {},
   "source": [
    "#### Aggregate functions"
   ]
  },
  {
   "cell_type": "code",
   "execution_count": 42,
   "metadata": {},
   "outputs": [
    {
     "data": {
      "text/plain": [
       "2.29128784747792"
      ]
     },
     "execution_count": 42,
     "metadata": {},
     "output_type": "execute_result"
    }
   ],
   "source": [
    "# average\n",
    "a.mean()\n",
    "\n",
    "# min\n",
    "a.min()\n",
    "\n",
    "# max\n",
    "a.max()\n",
    "\n",
    "# corrcoef\n",
    "np.corrcoef(a, b)\n",
    "\n",
    "np.std(a)"
   ]
  },
  {
   "cell_type": "markdown",
   "metadata": {},
   "source": [
    "### Subsetting, Slicing and Indexing"
   ]
  },
  {
   "cell_type": "code",
   "execution_count": 19,
   "metadata": {},
   "outputs": [],
   "source": [
    "arr1 = np.array([1, 4, 6, 7])\n",
    "# arr2 = np.array([3, 5, 3, 1])\n",
    "arr3 = np.array([[1.5, 2, 3], [4, 5, 6]])\n",
    "arr4 = np.array([[[1, 2, 3], [4, 5, 6], [7, 8, 9]], [[10, 11, 12], [13, 14, 15], [16, 17, 18]]])"
   ]
  },
  {
   "cell_type": "code",
   "execution_count": 11,
   "metadata": {},
   "outputs": [
    {
     "data": {
      "text/plain": [
       "(2, 2, 3)"
      ]
     },
     "execution_count": 11,
     "metadata": {},
     "output_type": "execute_result"
    }
   ],
   "source": [
    "arr4.shape"
   ]
  },
  {
   "cell_type": "code",
   "execution_count": 21,
   "metadata": {},
   "outputs": [
    {
     "data": {
      "text/plain": [
       "8"
      ]
     },
     "execution_count": 21,
     "metadata": {},
     "output_type": "execute_result"
    }
   ],
   "source": [
    "# accessing items in a 1D array\n",
    "arr1[2]\n",
    "\n",
    "# accessing items in 2D array\n",
    "arr3[0, 2]\n",
    "\n",
    "# accessing in a 3D array\n",
    "arr4[0, 2, 1]"
   ]
  },
  {
   "cell_type": "code",
   "execution_count": 43,
   "metadata": {},
   "outputs": [
    {
     "name": "stdout",
     "output_type": "stream",
     "text": [
      "[ 7  8  9 10 11 12]\n"
     ]
    }
   ],
   "source": [
    "# slicing 1D array\n",
    "arr1[0:3]\n",
    "\n",
    "# slicing a 2D array\n",
    "arr3[1, 0:2]\n",
    "\n",
    "# slicing a 3D array\n",
    "first = arr4[0, 2]\n",
    "second = arr4[1, 0]\n",
    "\n",
    "print(np.concatenate((first, second)))"
   ]
  },
  {
   "cell_type": "code",
   "execution_count": 50,
   "metadata": {},
   "outputs": [
    {
     "data": {
      "text/plain": [
       "array([1, 4])"
      ]
     },
     "execution_count": 50,
     "metadata": {},
     "output_type": "execute_result"
    }
   ],
   "source": [
    "# boolean indexing\n",
    "arr1[arr1 < 5]"
   ]
  },
  {
   "cell_type": "markdown",
   "metadata": {},
   "source": [
    "## Array manipulation"
   ]
  },
  {
   "cell_type": "code",
   "execution_count": 53,
   "metadata": {},
   "outputs": [
    {
     "name": "stdout",
     "output_type": "stream",
     "text": [
      "[[1.5 2.  3. ]\n",
      " [4.  5.  6. ]]\n"
     ]
    }
   ],
   "source": [
    "print(arr3)"
   ]
  },
  {
   "cell_type": "code",
   "execution_count": 54,
   "metadata": {},
   "outputs": [
    {
     "name": "stdout",
     "output_type": "stream",
     "text": [
      "[[1.5 4. ]\n",
      " [2.  5. ]\n",
      " [3.  6. ]]\n"
     ]
    }
   ],
   "source": [
    "# transpose\n",
    "# arr3_transpose = np.transpose(arr3) \n",
    "arr3_transpose = arr3.T\n",
    "print(arr3_transpose)"
   ]
  },
  {
   "cell_type": "code",
   "execution_count": null,
   "metadata": {},
   "outputs": [],
   "source": [
    "# combining arrays\n",
    "first = arr4[0, 2]\n",
    "second = arr4[1, 0]\n",
    "\n",
    "print(np.concatenate((first, second)))"
   ]
  },
  {
   "cell_type": "code",
   "execution_count": null,
   "metadata": {},
   "outputs": [],
   "source": [
    "# stacking\n",
    "np.vstack((a,b))\n",
    "np.hstack((a,b))\n",
    "np.column_stack((a,b))\n",
    "np.c_[a, b]"
   ]
  },
  {
   "cell_type": "code",
   "execution_count": null,
   "metadata": {},
   "outputs": [],
   "source": [
    "# splitting arrays\n",
    "np.hsplit()\n",
    "np.vsplit()"
   ]
  }
 ],
 "metadata": {
  "kernelspec": {
   "display_name": "pytorch",
   "language": "python",
   "name": "python3"
  },
  "language_info": {
   "codemirror_mode": {
    "name": "ipython",
    "version": 3
   },
   "file_extension": ".py",
   "mimetype": "text/x-python",
   "name": "python",
   "nbconvert_exporter": "python",
   "pygments_lexer": "ipython3",
   "version": "3.10.12"
  }
 },
 "nbformat": 4,
 "nbformat_minor": 2
}
