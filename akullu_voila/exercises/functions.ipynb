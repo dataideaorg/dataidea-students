{
 "cells": [
  {
   "cell_type": "code",
   "execution_count": 70,
   "id": "f8e2916a",
   "metadata": {},
   "outputs": [
    {
     "data": {
      "text/plain": [
       "'odd'"
      ]
     },
     "execution_count": 70,
     "metadata": {},
     "output_type": "execute_result"
    }
   ],
   "source": [
    "#even or odd\n",
    "def evenorodd(number):\n",
    "    if number%2==0:\n",
    "      return 'even'\n",
    "    else:\n",
    "      return 'odd'\n",
    "evenorodd(5)"
   ]
  },
  {
   "cell_type": "code",
   "execution_count": 71,
   "id": "746fa5ed",
   "metadata": {},
   "outputs": [
    {
     "data": {
      "text/plain": [
       "6"
      ]
     },
     "execution_count": 71,
     "metadata": {},
     "output_type": "execute_result"
    }
   ],
   "source": [
    "#maxOfTwo\n",
    "def maxOfTwo(num1,num2):\n",
    "    if num1>num2:\n",
    "        return num1\n",
    "    else:\n",
    "        return num2\n",
    "maxOfTwo(5,6)"
   ]
  },
  {
   "cell_type": "code",
   "execution_count": 72,
   "id": "55a2c9ba",
   "metadata": {},
   "outputs": [
    {
     "data": {
      "text/plain": [
       "'Not leap year'"
      ]
     },
     "execution_count": 72,
     "metadata": {},
     "output_type": "execute_result"
    }
   ],
   "source": [
    "#Leap year checker\n",
    "def isLeapYear(year):\n",
    "    if (year%4==0 and year%100!=0 or year%400==0):\n",
    "        return 'leap year'\n",
    "    else:\n",
    "        return 'Not leap year'\n",
    "isLeapYear(1900)"
   ]
  },
  {
   "cell_type": "code",
   "execution_count": 73,
   "id": "56fc33bc",
   "metadata": {},
   "outputs": [
    {
     "data": {
      "text/plain": [
       "6"
      ]
     },
     "execution_count": 73,
     "metadata": {},
     "output_type": "execute_result"
    }
   ],
   "source": [
    "#factorial Calculator\n",
    "def factorialCalculator(num):\n",
    "    if num==1:\n",
    "        return num\n",
    "    else:\n",
    "        return num*(factorialCalculator(num-1))\n",
    "factorialCalculator(3)\n",
    "        "
   ]
  },
  {
   "cell_type": "code",
   "execution_count": 75,
   "id": "bc6f485e",
   "metadata": {},
   "outputs": [
    {
     "data": {
      "text/plain": [
       "6"
      ]
     },
     "execution_count": 75,
     "metadata": {},
     "output_type": "execute_result"
    }
   ],
   "source": [
    "def gcd(a,b):\n",
    "    while b!=0:\n",
    "        a,b = b,a%b\n",
    "        return a\n",
    "gcd(3,6)\n"
   ]
  },
  {
   "cell_type": "code",
   "execution_count": 76,
   "id": "34232860",
   "metadata": {},
   "outputs": [
    {
     "data": {
      "text/plain": [
       "4"
      ]
     },
     "execution_count": 76,
     "metadata": {},
     "output_type": "execute_result"
    }
   ],
   "source": [
    "#absolute value\n",
    "def absoluteValue(num):\n",
    "    if num<0:\n",
    "        return -num\n",
    "    else:\n",
    "        return num\n",
    "absoluteValue(-4)"
   ]
  },
  {
   "cell_type": "code",
   "execution_count": 18,
   "id": "f89c8b3c",
   "metadata": {},
   "outputs": [
    {
     "data": {
      "text/plain": [
       "86.0"
      ]
     },
     "execution_count": 18,
     "metadata": {},
     "output_type": "execute_result"
    }
   ],
   "source": [
    "#temperature converter\n",
    "def convertTemp(celcius):\n",
    "    Farenheit = (celcius*(9/5))+32\n",
    "    return Farenheit\n",
    "\n",
    "convertTemp(30)"
   ]
  },
  {
   "cell_type": "code",
   "execution_count": 29,
   "id": "c3638637",
   "metadata": {},
   "outputs": [
    {
     "data": {
      "text/plain": [
       "'B'"
      ]
     },
     "execution_count": 29,
     "metadata": {},
     "output_type": "execute_result"
    }
   ],
   "source": [
    "#Grade calculator\n",
    "def calculateGrade(score):\n",
    "    if score >= 90:\n",
    "        return 'A'\n",
    "    elif score >= 80:\n",
    "        return 'B'\n",
    "    elif score >=70:\n",
    "        return 'C'\n",
    "    elif score >= 60:\n",
    "        return 'D'\n",
    "    elif score <= 59:\n",
    "        return 'F'\n",
    "calculateGrade(89)  \n",
    "    "
   ]
  },
  {
   "cell_type": "code",
   "execution_count": 77,
   "id": "7cd020f6",
   "metadata": {},
   "outputs": [
    {
     "data": {
      "text/plain": [
       "30"
      ]
     },
     "execution_count": 77,
     "metadata": {},
     "output_type": "execute_result"
    }
   ],
   "source": [
    "# calcculate sum of squares\n",
    "def sumOfSquares(n):\n",
    "    sum = 0\n",
    "    for number in range(0,n+1):\n",
    "        sum += number*number\n",
    "    return sum\n",
    "sumOfSquares(4)"
   ]
  },
  {
   "cell_type": "code",
   "execution_count": 1,
   "id": "24bf717e",
   "metadata": {},
   "outputs": [
    {
     "ename": "ZeroDivisionError",
     "evalue": "float division by zero",
     "output_type": "error",
     "traceback": [
      "\u001b[0;31m---------------------------------------------------------------------------\u001b[0m",
      "\u001b[0;31mZeroDivisionError\u001b[0m                         Traceback (most recent call last)",
      "Cell \u001b[0;32mIn[1], line 13\u001b[0m\n\u001b[1;32m     11\u001b[0m     \u001b[38;5;28;01melif\u001b[39;00m discriminant \u001b[38;5;241m<\u001b[39m \u001b[38;5;241m0\u001b[39m:\n\u001b[1;32m     12\u001b[0m         \u001b[38;5;28;01mreturn\u001b[39;00m \u001b[38;5;124m'\u001b[39m\u001b[38;5;124mNone\u001b[39m\u001b[38;5;124m'\u001b[39m\n\u001b[0;32m---> 13\u001b[0m \u001b[43msolveQuadratic\u001b[49m\u001b[43m(\u001b[49m\u001b[38;5;241;43m0\u001b[39;49m\u001b[43m,\u001b[49m\u001b[38;5;241;43m2\u001b[39;49m\u001b[43m,\u001b[49m\u001b[38;5;241;43m1\u001b[39;49m\u001b[43m)\u001b[49m\n",
      "Cell \u001b[0;32mIn[1], line 5\u001b[0m, in \u001b[0;36msolveQuadratic\u001b[0;34m(a, b, c)\u001b[0m\n\u001b[1;32m      3\u001b[0m discriminant \u001b[38;5;241m=\u001b[39m b\u001b[38;5;241m*\u001b[39m\u001b[38;5;241m*\u001b[39m\u001b[38;5;241m2\u001b[39m\u001b[38;5;241m-\u001b[39m\u001b[38;5;241m4\u001b[39m\u001b[38;5;241m*\u001b[39ma\u001b[38;5;241m*\u001b[39mc\n\u001b[1;32m      4\u001b[0m \u001b[38;5;28;01mif\u001b[39;00m discriminant \u001b[38;5;241m>\u001b[39m \u001b[38;5;241m0\u001b[39m:\n\u001b[0;32m----> 5\u001b[0m     root1 \u001b[38;5;241m=\u001b[39m (\u001b[38;5;241m-\u001b[39mb\u001b[38;5;241m+\u001b[39m\u001b[43m(\u001b[49m\u001b[43mdiscriminant\u001b[49m\u001b[43m)\u001b[49m\u001b[38;5;241;43m*\u001b[39;49m\u001b[38;5;241;43m*\u001b[39;49m\u001b[38;5;241;43m0.5\u001b[39;49m\u001b[38;5;241;43m/\u001b[39;49m\u001b[43m(\u001b[49m\u001b[38;5;241;43m2\u001b[39;49m\u001b[38;5;241;43m*\u001b[39;49m\u001b[43ma\u001b[49m\u001b[43m)\u001b[49m)\n\u001b[1;32m      6\u001b[0m     root2 \u001b[38;5;241m=\u001b[39m (\u001b[38;5;241m-\u001b[39mb\u001b[38;5;241m-\u001b[39m(discriminant)\u001b[38;5;241m*\u001b[39m\u001b[38;5;241m*\u001b[39m\u001b[38;5;241m0.5\u001b[39m\u001b[38;5;241m/\u001b[39m(\u001b[38;5;241m2\u001b[39m\u001b[38;5;241m*\u001b[39ma))\n\u001b[1;32m      7\u001b[0m     \u001b[38;5;28;01mreturn\u001b[39;00m (root1,root2)\n",
      "\u001b[0;31mZeroDivisionError\u001b[0m: float division by zero"
     ]
    }
   ],
   "source": [
    "#Quadratic equation solver\n",
    "def solveQuadratic(a,b,c):\n",
    "    discriminant = b**2-4*a*c\n",
    "    if discriminant > 0:\n",
    "        root1 = (-b+(discriminant)**0.5/(2*a))\n",
    "        root2 = (-b-(discriminant)**0.5/(2*a))\n",
    "        return (root1,root2)\n",
    "    elif discriminant == 0:\n",
    "        root = -b/2*a\n",
    "        return (root,root)\n",
    "    elif discriminant < 0:\n",
    "        return 'None'\n",
    "solveQuadratic(0,2,1)"
   ]
  },
  {
   "cell_type": "code",
   "execution_count": null,
   "id": "ff1393cf",
   "metadata": {},
   "outputs": [],
   "source": []
  }
 ],
 "metadata": {
  "kernelspec": {
   "display_name": "Python 3 (ipykernel)",
   "language": "python",
   "name": "python3"
  },
  "language_info": {
   "codemirror_mode": {
    "name": "ipython",
    "version": 3
   },
   "file_extension": ".py",
   "mimetype": "text/x-python",
   "name": "python",
   "nbconvert_exporter": "python",
   "pygments_lexer": "ipython3",
   "version": "3.10.12"
  }
 },
 "nbformat": 4,
 "nbformat_minor": 5
}
