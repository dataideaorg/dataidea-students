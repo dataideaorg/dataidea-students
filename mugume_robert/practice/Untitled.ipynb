{
 "cells": [
  {
   "cell_type": "code",
   "execution_count": 1,
   "id": "64e1f125-ac6b-436c-9e2a-96282684d136",
   "metadata": {},
   "outputs": [],
   "source": [
    "import numpy as np\n",
    "import pandas as pd\n",
    "import matplotlib.pyplot as plt"
   ]
  },
  {
   "cell_type": "code",
   "execution_count": 2,
   "id": "fd4559ff-c4e1-4bde-975e-c49b12a08951",
   "metadata": {},
   "outputs": [],
   "source": [
    "data = pd.read_excel(io='city_data_baseline_survey.xlsx')"
   ]
  },
  {
   "cell_type": "code",
   "execution_count": 36,
   "id": "23a5a6fc-ca48-480b-93cf-fd69b52a6bbf",
   "metadata": {},
   "outputs": [
    {
     "data": {
      "text/plain": [
       "Index(['Timestamp', 'Email', 'Agreed_To_Survey', 'Name', 'Phone_Contact'], dtype='object')"
      ]
     },
     "execution_count": 36,
     "metadata": {},
     "output_type": "execute_result"
    }
   ],
   "source": [
    "data.rename(columns = {\n",
    "    'email': 'Email',\n",
    "    'agreed_to_survey': 'Agreed_To_Survey',\n",
    "    'name': 'Name',\n",
    "    'Your Phone contact': 'Phone_Contact',\n",
    "    'Your City': 'City',\n",
    "    'position_in_city': 'Position_In_City'\n",
    "}, inplace=True)\n",
    "data.columns[:5]"
   ]
  },
  {
   "cell_type": "code",
   "execution_count": 35,
   "id": "aa15824d-687c-4988-81c7-e60cec4fc202",
   "metadata": {},
   "outputs": [
    {
     "data": {
      "text/html": [
       "<div>\n",
       "<style scoped>\n",
       "    .dataframe tbody tr th:only-of-type {\n",
       "        vertical-align: middle;\n",
       "    }\n",
       "\n",
       "    .dataframe tbody tr th {\n",
       "        vertical-align: top;\n",
       "    }\n",
       "\n",
       "    .dataframe thead th {\n",
       "        text-align: right;\n",
       "    }\n",
       "</style>\n",
       "<table border=\"1\" class=\"dataframe\">\n",
       "  <thead>\n",
       "    <tr style=\"text-align: right;\">\n",
       "      <th></th>\n",
       "      <th>Timestamp</th>\n",
       "      <th>Email</th>\n",
       "      <th>Agreed_To_Survey</th>\n",
       "      <th>Name</th>\n",
       "      <th>Phone_Contact</th>\n",
       "      <th>City</th>\n",
       "      <th>Position_In_City</th>\n",
       "      <th>Percentage_Informal_Data</th>\n",
       "      <th>Evidence_Unregistered_Data</th>\n",
       "      <th>Efficient_Ways_Local_Revenue</th>\n",
       "      <th>...</th>\n",
       "      <th>Percentage_Tourist_Attractions_Data</th>\n",
       "      <th>Evidence_Tourist_Attractions_Data</th>\n",
       "      <th>Percentage_Tourist_Souvenirs_Data</th>\n",
       "      <th>Evidence_Tourist_Souvenirs_Data</th>\n",
       "      <th>Percentage_Tourism_Human_Resources_Data</th>\n",
       "      <th>Evidence_Tourism_Human_Resources_Data</th>\n",
       "      <th>Percentage_Tourist_Feedback_Data</th>\n",
       "      <th>Evidence_Tourist_Feedback_Data</th>\n",
       "      <th>Other_Tourism_Data</th>\n",
       "      <th>Effient_Ways_Tourism_Data</th>\n",
       "    </tr>\n",
       "  </thead>\n",
       "  <tbody>\n",
       "    <tr>\n",
       "      <th>5</th>\n",
       "      <td>2024-02-26 13:03:00.051</td>\n",
       "      <td>byomugabejackson@gmail.com</td>\n",
       "      <td>Yes I agree</td>\n",
       "      <td>BYOMUGABE JACKSON</td>\n",
       "      <td>0778087436</td>\n",
       "      <td>Fort-Portal City</td>\n",
       "      <td>IN CHARGE REVENUE</td>\n",
       "      <td>I have some Data but I am not sure of its perc...</td>\n",
       "      <td>NaN</td>\n",
       "      <td>Having registers and updated all the time, mon...</td>\n",
       "      <td>...</td>\n",
       "      <td>NaN</td>\n",
       "      <td>NaN</td>\n",
       "      <td>NaN</td>\n",
       "      <td>NaN</td>\n",
       "      <td>NaN</td>\n",
       "      <td>NaN</td>\n",
       "      <td>NaN</td>\n",
       "      <td>NaN</td>\n",
       "      <td>NaN</td>\n",
       "      <td>NaN</td>\n",
       "    </tr>\n",
       "    <tr>\n",
       "      <th>1</th>\n",
       "      <td>2024-02-22 11:23:52.434</td>\n",
       "      <td>NaN</td>\n",
       "      <td>Yes I agree</td>\n",
       "      <td>Kizito Levitucs</td>\n",
       "      <td>0776120556</td>\n",
       "      <td>Jinja City</td>\n",
       "      <td>Senior Economist</td>\n",
       "      <td>I have some Data but I am not sure of its perc...</td>\n",
       "      <td>NaN</td>\n",
       "      <td>Through routine data collection, Profiling inf...</td>\n",
       "      <td>...</td>\n",
       "      <td>I have some Data but I am not sure of its perc...</td>\n",
       "      <td>NaN</td>\n",
       "      <td>I have some Data but I am not sure of its perc...</td>\n",
       "      <td>NaN</td>\n",
       "      <td>I have some Data but I am not sure of its perc...</td>\n",
       "      <td>NaN</td>\n",
       "      <td>I have some Data but I am not sure of its perc...</td>\n",
       "      <td>NaN</td>\n",
       "      <td>NaN</td>\n",
       "      <td>through profiling them.</td>\n",
       "    </tr>\n",
       "    <tr>\n",
       "      <th>7</th>\n",
       "      <td>2024-02-26 14:03:22.463</td>\n",
       "      <td>kagoyeben@gmail.com</td>\n",
       "      <td>Yes I agree</td>\n",
       "      <td>KAGOYE BENEDICTUS</td>\n",
       "      <td>0704165541</td>\n",
       "      <td>Jinja City</td>\n",
       "      <td>SENIOR REVENUE OFFICER</td>\n",
       "      <td>I have 0% Data.</td>\n",
       "      <td>NaN</td>\n",
       "      <td>BY USE OF A REVENUE REGISTER</td>\n",
       "      <td>...</td>\n",
       "      <td>I have some Data but I am not sure of its perc...</td>\n",
       "      <td>NaN</td>\n",
       "      <td>I have 1-25% Data</td>\n",
       "      <td>NaN</td>\n",
       "      <td>I have some Data but I am not sure of its perc...</td>\n",
       "      <td>NaN</td>\n",
       "      <td>I have some Data but I am not sure of its perc...</td>\n",
       "      <td>NaN</td>\n",
       "      <td>NaN</td>\n",
       "      <td>We can use an attendance register at the entra...</td>\n",
       "    </tr>\n",
       "  </tbody>\n",
       "</table>\n",
       "<p>3 rows × 70 columns</p>\n",
       "</div>"
      ],
      "text/plain": [
       "                Timestamp                       Email Agreed_To_Survey  \\\n",
       "5 2024-02-26 13:03:00.051  byomugabejackson@gmail.com      Yes I agree   \n",
       "1 2024-02-22 11:23:52.434                         NaN      Yes I agree   \n",
       "7 2024-02-26 14:03:22.463         kagoyeben@gmail.com      Yes I agree   \n",
       "\n",
       "                Name Phone_Contact              City        Position_In_City  \\\n",
       "5  BYOMUGABE JACKSON    0778087436  Fort-Portal City       IN CHARGE REVENUE   \n",
       "1    Kizito Levitucs    0776120556        Jinja City        Senior Economist   \n",
       "7  KAGOYE BENEDICTUS    0704165541        Jinja City  SENIOR REVENUE OFFICER   \n",
       "\n",
       "                            Percentage_Informal_Data  \\\n",
       "5  I have some Data but I am not sure of its perc...   \n",
       "1  I have some Data but I am not sure of its perc...   \n",
       "7                                    I have 0% Data.   \n",
       "\n",
       "   Evidence_Unregistered_Data  \\\n",
       "5                         NaN   \n",
       "1                         NaN   \n",
       "7                         NaN   \n",
       "\n",
       "                        Efficient_Ways_Local_Revenue  ...  \\\n",
       "5  Having registers and updated all the time, mon...  ...   \n",
       "1  Through routine data collection, Profiling inf...  ...   \n",
       "7                       BY USE OF A REVENUE REGISTER  ...   \n",
       "\n",
       "                 Percentage_Tourist_Attractions_Data  \\\n",
       "5                                                NaN   \n",
       "1  I have some Data but I am not sure of its perc...   \n",
       "7  I have some Data but I am not sure of its perc...   \n",
       "\n",
       "  Evidence_Tourist_Attractions_Data  \\\n",
       "5                               NaN   \n",
       "1                               NaN   \n",
       "7                               NaN   \n",
       "\n",
       "                   Percentage_Tourist_Souvenirs_Data  \\\n",
       "5                                                NaN   \n",
       "1  I have some Data but I am not sure of its perc...   \n",
       "7                                  I have 1-25% Data   \n",
       "\n",
       "  Evidence_Tourist_Souvenirs_Data  \\\n",
       "5                             NaN   \n",
       "1                             NaN   \n",
       "7                             NaN   \n",
       "\n",
       "             Percentage_Tourism_Human_Resources_Data  \\\n",
       "5                                                NaN   \n",
       "1  I have some Data but I am not sure of its perc...   \n",
       "7  I have some Data but I am not sure of its perc...   \n",
       "\n",
       "  Evidence_Tourism_Human_Resources_Data  \\\n",
       "5                                   NaN   \n",
       "1                                   NaN   \n",
       "7                                   NaN   \n",
       "\n",
       "                    Percentage_Tourist_Feedback_Data  \\\n",
       "5                                                NaN   \n",
       "1  I have some Data but I am not sure of its perc...   \n",
       "7  I have some Data but I am not sure of its perc...   \n",
       "\n",
       "   Evidence_Tourist_Feedback_Data Other_Tourism_Data  \\\n",
       "5                             NaN                NaN   \n",
       "1                             NaN                NaN   \n",
       "7                             NaN                NaN   \n",
       "\n",
       "                           Effient_Ways_Tourism_Data  \n",
       "5                                                NaN  \n",
       "1                            through profiling them.  \n",
       "7  We can use an attendance register at the entra...  \n",
       "\n",
       "[3 rows x 70 columns]"
      ]
     },
     "execution_count": 35,
     "metadata": {},
     "output_type": "execute_result"
    }
   ],
   "source": [
    "data.sample(n=3)"
   ]
  },
  {
   "cell_type": "code",
   "execution_count": 37,
   "id": "0a2545ed-50bf-4534-9450-d8adfac07df6",
   "metadata": {},
   "outputs": [
    {
     "data": {
      "text/plain": [
       "Percentage_Informal_Data\n",
       "I have some Data but I am not sure of its percentage.    4\n",
       "I have 0% Data.                                          4\n",
       "I have 76-100% Data                                      1\n",
       "I have 1-25% Data                                        1\n",
       "Name: count, dtype: int64"
      ]
     },
     "execution_count": 37,
     "metadata": {},
     "output_type": "execute_result"
    }
   ],
   "source": [
    "data.Percentage_Informal_Data.value_counts()"
   ]
  },
  {
   "cell_type": "code",
   "execution_count": 42,
   "id": "9c9f2d25-0dfa-4105-9c74-ce2b7fd94bbb",
   "metadata": {},
   "outputs": [
    {
     "data": {
      "text/plain": [
       "count                                                    10\n",
       "unique                                                    4\n",
       "top       I have some Data but I am not sure of its perc...\n",
       "freq                                                      4\n",
       "Name: Percentage_Informal_Data, dtype: object"
      ]
     },
     "execution_count": 42,
     "metadata": {},
     "output_type": "execute_result"
    }
   ],
   "source": [
    "data.Percentage_Informal_Data.describe()"
   ]
  },
  {
   "cell_type": "code",
   "execution_count": 40,
   "id": "4a3355e6-d620-48f9-bd4c-1352eae3b648",
   "metadata": {},
   "outputs": [],
   "source": [
    "data.to_csv('refined_city_data_baseline_survey.csv')"
   ]
  },
  {
   "cell_type": "code",
   "execution_count": 43,
   "id": "fcaa0140-821a-4c29-9cb1-19b6c135b579",
   "metadata": {},
   "outputs": [
    {
     "name": "stdout",
     "output_type": "stream",
     "text": [
      "[]\n"
     ]
    }
   ],
   "source": [
    "names = ['Juma', 'Calvin', 'John', 'Shafara', 'Tong', 'Masaba']\n",
    "\n",
    "# print(weights[-1])\n",
    "\n",
    "print(names[-1:-4])"
   ]
  }
 ],
 "metadata": {
  "kernelspec": {
   "display_name": "Python 3 (ipykernel)",
   "language": "python",
   "name": "python3"
  },
  "language_info": {
   "codemirror_mode": {
    "name": "ipython",
    "version": 3
   },
   "file_extension": ".py",
   "mimetype": "text/x-python",
   "name": "python",
   "nbconvert_exporter": "python",
   "pygments_lexer": "ipython3",
   "version": "3.10.12"
  }
 },
 "nbformat": 4,
 "nbformat_minor": 5
}
