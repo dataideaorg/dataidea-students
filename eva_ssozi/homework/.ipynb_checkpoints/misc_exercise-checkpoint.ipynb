{
 "cells": [
  {
   "cell_type": "markdown",
   "metadata": {},
   "source": [
    "1) Reverse a string"
   ]
  },
  {
   "cell_type": "code",
   "execution_count": 1,
   "metadata": {},
   "outputs": [
    {
     "data": {
      "text/plain": [
       "'tekram'"
      ]
     },
     "execution_count": 1,
     "metadata": {},
     "output_type": "execute_result"
    }
   ],
   "source": [
    "def reverse_string(string):\n",
    "    reversed = string[::-1]\n",
    "    return reversed\n",
    "\n",
    "reverse_string(\"market\")"
   ]
  },
  {
   "cell_type": "markdown",
   "metadata": {},
   "source": [
    "2) Palindrome Checker"
   ]
  },
  {
   "cell_type": "code",
   "execution_count": 10,
   "metadata": {},
   "outputs": [
    {
     "data": {
      "text/plain": [
       "False"
      ]
     },
     "execution_count": 10,
     "metadata": {},
     "output_type": "execute_result"
    }
   ],
   "source": [
    "def palindrome_checker(string):\n",
    "    rev_string = string[::-1]\n",
    "    if rev_string == string:\n",
    "        return True\n",
    "    else:\n",
    "        return False\n",
    "\n",
    "\n",
    "palindrome_checker(\"ant\")"
   ]
  },
  {
   "cell_type": "markdown",
   "metadata": {},
   "source": [
    "3) Factorial Calculator"
   ]
  },
  {
   "cell_type": "code",
   "execution_count": 12,
   "metadata": {},
   "outputs": [
    {
     "data": {
      "text/plain": [
       "120"
      ]
     },
     "execution_count": 12,
     "metadata": {},
     "output_type": "execute_result"
    }
   ],
   "source": [
    "def factorial(num):\n",
    "    if num.is_integer():\n",
    "        if num > 0:\n",
    "            ans = num * factorial(num-1)\n",
    "            return ans\n",
    "        elif num == 0:\n",
    "            ans = 1\n",
    "            return ans\n",
    "        else:\n",
    "            print(\"Enter positive integer\")\n",
    "    else:\n",
    "        print(\"Enter positive integer\")\n",
    "    \n",
    "factorial(5)"
   ]
  },
  {
   "cell_type": "markdown",
   "metadata": {},
   "source": [
    "4) Fibonacci Sequence"
   ]
  },
  {
   "cell_type": "code",
   "execution_count": 8,
   "metadata": {},
   "outputs": [
    {
     "data": {
      "text/plain": [
       "[0, 1, 1, 2, 3, 5, 8, 13]"
      ]
     },
     "execution_count": 8,
     "metadata": {},
     "output_type": "execute_result"
    }
   ],
   "source": [
    "#Fn = Fn-1 + Fn-2, with 0 and 1 being the first two numbers\n",
    "#to generate sequence, we use for loop:\n",
    "def fibonacci(num):\n",
    "    #the first two numbers are 0 and 1:\n",
    "    series = [0,1]\n",
    "    for i in range(2, num):\n",
    "        series.append(series[-1] + series[-2])\n",
    "    return series\n",
    "    \n",
    "fibonacci(8)"
   ]
  },
  {
   "cell_type": "code",
   "execution_count": 7,
   "metadata": {},
   "outputs": [
    {
     "data": {
      "text/plain": [
       "1"
      ]
     },
     "execution_count": 7,
     "metadata": {},
     "output_type": "execute_result"
    }
   ],
   "source": [
    "series = [0,1]\n",
    "series[-1]"
   ]
  },
  {
   "cell_type": "code",
   "execution_count": 4,
   "metadata": {},
   "outputs": [
    {
     "name": "stdout",
     "output_type": "stream",
     "text": [
      "range(0, 7)\n"
     ]
    }
   ],
   "source": [
    "print(range(7))"
   ]
  },
  {
   "cell_type": "markdown",
   "metadata": {},
   "source": [
    "5) Prime number checker"
   ]
  },
  {
   "cell_type": "code",
   "execution_count": 19,
   "metadata": {},
   "outputs": [
    {
     "name": "stdout",
     "output_type": "stream",
     "text": [
      "This a prime number\n"
     ]
    }
   ],
   "source": [
    "#to check for prime number, the divisors that would result in 0 reminders, aside from 1 lie between 2 and number/2\n",
    "#so loop for all numbers in that range:\n",
    "\n",
    "def prime_num(number):\n",
    "    if number > 1:\n",
    "        for i in range(2, (number//2)+1):\n",
    "            if (number%i) == 0:\n",
    "                print(\"Not a prime number\")\n",
    "                break\n",
    "            else:\n",
    "                print(\"This a prime number\")\n",
    "    else:\n",
    "        print(\"Not a prime number\")\n",
    "\n",
    "prime_num(5)"
   ]
  },
  {
   "cell_type": "markdown",
   "metadata": {},
   "source": [
    "6) List reversal"
   ]
  },
  {
   "cell_type": "code",
   "execution_count": 17,
   "metadata": {},
   "outputs": [
    {
     "data": {
      "text/plain": [
       "[5, 4, 3, 2, 1]"
      ]
     },
     "execution_count": 17,
     "metadata": {},
     "output_type": "execute_result"
    }
   ],
   "source": [
    "def reverse_list(list_of_things):\n",
    "    list_of_things.reverse()\n",
    "    return list_of_things\n",
    "\n",
    "reverse_list([1,2,3,4,5])"
   ]
  },
  {
   "cell_type": "markdown",
   "metadata": {},
   "source": [
    "7) List sorting"
   ]
  },
  {
   "cell_type": "code",
   "execution_count": 13,
   "metadata": {},
   "outputs": [
    {
     "name": "stdout",
     "output_type": "stream",
     "text": [
      "[13, 23, 54, 62, 65, 78, 98]\n"
     ]
    }
   ],
   "source": [
    "#don't really understand this one:\n",
    "def sorting(mylist):\n",
    "    for i in range(0, len(mylist)):\n",
    "        for j in range(i+1, len(mylist)):\n",
    "            if mylist[i] >= mylist[j]:\n",
    "                temp = mylist[i]\n",
    "                mylist[i] = mylist[j]\n",
    "                mylist[j] = temp\n",
    "    return mylist\n",
    "\n",
    "print(sorting([78,23,98,54,62,13,65]))"
   ]
  },
  {
   "cell_type": "markdown",
   "metadata": {},
   "source": [
    "8) Anagram checker"
   ]
  },
  {
   "cell_type": "code",
   "execution_count": 23,
   "metadata": {},
   "outputs": [
    {
     "data": {
      "text/plain": [
       "True"
      ]
     },
     "execution_count": 23,
     "metadata": {},
     "output_type": "execute_result"
    }
   ],
   "source": [
    "def anagram(string1, string2):\n",
    "    #empty dictionaries to store results:\n",
    "    f1 = {}\n",
    "    f2 = {}\n",
    "    \n",
    "    #valid letters (to eliminate other characters from being counted):\n",
    "    valid_letters = ['a','b','c','d','e','f','g','h','i','j','k','l','m','n',\n",
    "                     'o','p','q','r','s','t','u','v','w','x','y','z','A','B','C','D','E','F','G','h','i','j','k','l','m','n',\n",
    "                     'O','P','Q','R','S','T','U','V','W','X','Y','Z']\n",
    "\n",
    "    for char in set(string1):\n",
    "        if char in valid_letters:\n",
    "            #dict[key] = value\n",
    "            f1[char] = string1.count(char)\n",
    "\n",
    "    for char in set(string2):\n",
    "        if char in valid_letters:\n",
    "            #dict[key] = value\n",
    "            f2[char] = string2.count(char)\n",
    "\n",
    "    #check if dictionaries are equal:\n",
    "    if f1 == f2:\n",
    "        return True\n",
    "    else:\n",
    "        return False\n",
    "    \n",
    "\n",
    "anagram(\"annaapple\", \"apple anna\")"
   ]
  },
  {
   "cell_type": "markdown",
   "metadata": {},
   "source": [
    "9) Count words in string"
   ]
  },
  {
   "cell_type": "code",
   "execution_count": 27,
   "metadata": {},
   "outputs": [
    {
     "data": {
      "text/plain": [
       "5"
      ]
     },
     "execution_count": 27,
     "metadata": {},
     "output_type": "execute_result"
    }
   ],
   "source": [
    "#words are separated by spaces:\n",
    "\n",
    "def word_count(string):\n",
    "    words = string.split(\" \")\n",
    "    return len(words)\n",
    "\n",
    "word_count(\"I love maths and music.\")"
   ]
  },
  {
   "cell_type": "markdown",
   "metadata": {},
   "source": [
    "10) Unique elements"
   ]
  },
  {
   "cell_type": "code",
   "execution_count": 28,
   "metadata": {},
   "outputs": [
    {
     "data": {
      "text/plain": [
       "[1, 2, 3, 4, 5]"
      ]
     },
     "execution_count": 28,
     "metadata": {},
     "output_type": "execute_result"
    }
   ],
   "source": [
    "#use set() to remove duplicates\n",
    "def unique_elements(original_list):\n",
    "    unique_contents = set(original_list)\n",
    "    return list(unique_contents)\n",
    "\n",
    "unique_elements([1,2,3,4,2,1,4,5,2,2,4])"
   ]
  }
 ],
 "metadata": {
  "kernelspec": {
   "display_name": "dataidea",
   "language": "python",
   "name": "python3"
  },
  "language_info": {
   "codemirror_mode": {
    "name": "ipython",
    "version": 3
   },
   "file_extension": ".py",
   "mimetype": "text/x-python",
   "name": "python",
   "nbconvert_exporter": "python",
   "pygments_lexer": "ipython3",
   "version": "3.12.2"
  }
 },
 "nbformat": 4,
 "nbformat_minor": 2
}
