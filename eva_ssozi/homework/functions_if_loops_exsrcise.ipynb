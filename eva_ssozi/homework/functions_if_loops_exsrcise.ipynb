{
 "cells": [
  {
   "cell_type": "markdown",
   "id": "bff3ecad-ee01-4a90-bbae-47a030171fa4",
   "metadata": {},
   "source": [
    "1) Even or Odd: Write a function called evenOrOdd that takes an integer as input andreturns \"Even\" if the number is even, and \"Odd\" if the number is odd."
   ]
  },
  {
   "cell_type": "code",
   "execution_count": 72,
   "id": "0ec325f8-90f7-4092-9ee5-6966b4199215",
   "metadata": {},
   "outputs": [],
   "source": [
    "def evenOrOdd(number):\n",
    "    if number.is_integer():\n",
    "        if number % 2 == 0:\n",
    "            return \"Even\"\n",
    "        else:\n",
    "            return \"Odd\"\n",
    "    else:\n",
    "        print(\"Enter positive integer\")"
   ]
  },
  {
   "cell_type": "code",
   "execution_count": 73,
   "id": "686ee83b-3d01-49ff-a923-658247ddc5e6",
   "metadata": {},
   "outputs": [
    {
     "name": "stdout",
     "output_type": "stream",
     "text": [
      "Enter positive integer\n"
     ]
    }
   ],
   "source": [
    "evenOrOdd(8.4)"
   ]
  },
  {
   "cell_type": "code",
   "execution_count": 74,
   "id": "60bd21f7-916d-4849-8545-b797d6688d56",
   "metadata": {},
   "outputs": [
    {
     "data": {
      "text/plain": [
       "'Odd'"
      ]
     },
     "execution_count": 74,
     "metadata": {},
     "output_type": "execute_result"
    }
   ],
   "source": [
    "evenOrOdd(9)"
   ]
  },
  {
   "cell_type": "markdown",
   "id": "509f5ca4-508d-4c14-b5a5-46f3a2bacab7",
   "metadata": {},
   "source": [
    "2) Maximum of Two Numbers: Write a function called maxOfTwo that takes two numbers as input and returns the maximum of the two."
   ]
  },
  {
   "cell_type": "code",
   "execution_count": 14,
   "id": "92a52e81-7eb9-4fc1-adf0-2b1e77c78cd8",
   "metadata": {},
   "outputs": [],
   "source": [
    "def maxOfTwo(num1, num2):\n",
    "    if num1 >= num2:\n",
    "        return num1\n",
    "    else:\n",
    "        return num2"
   ]
  },
  {
   "cell_type": "code",
   "execution_count": 15,
   "id": "975c85bf-4dbd-4618-bb9d-ca1011b2f7e2",
   "metadata": {},
   "outputs": [
    {
     "data": {
      "text/plain": [
       "3"
      ]
     },
     "execution_count": 15,
     "metadata": {},
     "output_type": "execute_result"
    }
   ],
   "source": [
    "maxOfTwo(2,3)"
   ]
  },
  {
   "cell_type": "markdown",
   "id": "368e9db3-56a6-49f2-bc46-0f6b91f22e11",
   "metadata": {},
   "source": [
    "3) Leap Year Checker: Write a function called isLeapYear that takes a year as input and returns True if it is a leap year, and False otherwise. (A leap year is divisible by 4, but not by 100 unless it is also divisible by 400)."
   ]
  },
  {
   "cell_type": "code",
   "execution_count": 20,
   "id": "c4457a56-39af-4600-bb21-46a062802483",
   "metadata": {},
   "outputs": [],
   "source": [
    "def isLeapYear(year):\n",
    "    #leap year is dvisible by 4:\n",
    "        #leap year is not divisble by 100\n",
    "        #leap year is divisible by both 100 and 400\n",
    "    \n",
    "    if year % 4 == 0:        \n",
    "        if year % 100 != 0:\n",
    "            return True        \n",
    "        elif year % 100 == 0 and year % 400 == 0:\n",
    "            return True\n",
    "        else:\n",
    "            return False\n",
    "    else:\n",
    "        return False"
   ]
  },
  {
   "cell_type": "code",
   "execution_count": 23,
   "id": "481afe2d-5c89-4260-be09-ea2f65a838d7",
   "metadata": {},
   "outputs": [
    {
     "data": {
      "text/plain": [
       "True"
      ]
     },
     "execution_count": 23,
     "metadata": {},
     "output_type": "execute_result"
    }
   ],
   "source": [
    "isLeapYear(2004)"
   ]
  },
  {
   "cell_type": "code",
   "execution_count": 22,
   "id": "22bf9f66-a993-4a5d-8d09-bde0ddca1f83",
   "metadata": {},
   "outputs": [
    {
     "data": {
      "text/plain": [
       "False"
      ]
     },
     "execution_count": 22,
     "metadata": {},
     "output_type": "execute_result"
    }
   ],
   "source": [
    "isLeapYear(1900)"
   ]
  },
  {
   "cell_type": "markdown",
   "id": "f69cd476-1ab3-49e3-b302-370c68ab721c",
   "metadata": {},
   "source": [
    "4) Factorial Calculator: Write a function called factorial that takes an integer as input and returns its factorial. The factorial of a number n is the product of all positive integers less than or equal to n."
   ]
  },
  {
   "cell_type": "code",
   "execution_count": 57,
   "id": "b3f8cb94-cae1-4393-9ad2-d3bdc68562b5",
   "metadata": {},
   "outputs": [],
   "source": [
    "def factorial(num):\n",
    "    if num.is_integer():\n",
    "        if num > 0:\n",
    "            ans = num * factorial(num-1)\n",
    "            return ans\n",
    "        elif num == 0:\n",
    "            ans = 1\n",
    "            return ans\n",
    "        else:\n",
    "            print(\"Enter positive integer\")\n",
    "    else:\n",
    "        print(\"Enter positive integer\")"
   ]
  },
  {
   "cell_type": "code",
   "execution_count": 58,
   "id": "95054157-d735-4198-b68e-3affd0329683",
   "metadata": {},
   "outputs": [
    {
     "name": "stdout",
     "output_type": "stream",
     "text": [
      "Enter positive integer\n"
     ]
    }
   ],
   "source": [
    "factorial(-9)"
   ]
  },
  {
   "cell_type": "markdown",
   "id": "14818644-f83e-49d9-b0c3-6d402da978b6",
   "metadata": {},
   "source": [
    "5) Greatest Common Divisor (GCD): Write a function called gcd that takes two positive integers as input and returns their greatest common divisor."
   ]
  },
  {
   "cell_type": "code",
   "execution_count": null,
   "id": "a5537631-c97d-447d-8ddb-1f382902011e",
   "metadata": {},
   "outputs": [],
   "source": []
  },
  {
   "cell_type": "markdown",
   "id": "71e0a129-83f2-4062-a286-30f5f18411d6",
   "metadata": {},
   "source": [
    "6) Absolute Value: Write a function called absoluteValue that takes a number as input and returns its absolute value without using the built-in abs() function"
   ]
  },
  {
   "cell_type": "code",
   "execution_count": 59,
   "id": "0da424c0-f2ac-42a9-8652-3625aa062e3d",
   "metadata": {},
   "outputs": [],
   "source": [
    "def absoluteValue(num):\n",
    "    if num.is_integer():\n",
    "        if num >= 0:\n",
    "            return num\n",
    "        if num < 0:\n",
    "            num = -1*num\n",
    "            return num\n",
    "    else:\n",
    "        print(\"Enter integer\")"
   ]
  },
  {
   "cell_type": "code",
   "execution_count": 60,
   "id": "e00494b8-96dc-4098-8066-b55baea89caa",
   "metadata": {},
   "outputs": [
    {
     "name": "stdout",
     "output_type": "stream",
     "text": [
      "Enter integer\n"
     ]
    }
   ],
   "source": [
    "absoluteValue(4.6)"
   ]
  },
  {
   "cell_type": "markdown",
   "id": "1fece8aa-66cd-4f41-8c5f-631c557a8ff9",
   "metadata": {},
   "source": [
    "7) Temperature Converter: Write a function called convertTemperature that takes a temperature in Celsius as input and returns it converted to Fahrenheit. The conversion formulais: Fahrenheit = (Celsius * 9/5) + 32."
   ]
  },
  {
   "cell_type": "code",
   "execution_count": 61,
   "id": "63593fa3-4204-468e-a09b-8a43cf496996",
   "metadata": {},
   "outputs": [],
   "source": [
    "def convertTemperature(temp_c):\n",
    "    temp_f = 32 + (temp_c * 9/5)\n",
    "    return temp_f"
   ]
  },
  {
   "cell_type": "code",
   "execution_count": 62,
   "id": "97f43ca4-410a-4a29-8cca-eb6cb2a1fad9",
   "metadata": {},
   "outputs": [
    {
     "data": {
      "text/plain": [
       "212.0"
      ]
     },
     "execution_count": 62,
     "metadata": {},
     "output_type": "execute_result"
    }
   ],
   "source": [
    "convertTemperature(100)"
   ]
  },
  {
   "cell_type": "markdown",
   "id": "5a9c6ed3-edff-411b-95e9-89807fb10ce7",
   "metadata": {},
   "source": [
    "8) Grade Calculator: Write a function called calculateGrade that takes a score as input and returns the corresponding letter grade according to the following scheme: 90-100: A - 80-89: B - 70-79: C - 60-69: D - Below 60: F"
   ]
  },
  {
   "cell_type": "code",
   "execution_count": 63,
   "id": "c891a0cb-4277-4a2a-9f14-466dc3970bfb",
   "metadata": {},
   "outputs": [],
   "source": [
    "def calculateGrade(score):\n",
    "    if score >= 90:\n",
    "        return \"A\"\n",
    "    if score >= 80:\n",
    "        return \"B\"\n",
    "    if score >= 70:\n",
    "        return \"C\"\n",
    "    if score >= 60:\n",
    "        return \"D\"\n",
    "    else:\n",
    "        return \"F\""
   ]
  },
  {
   "cell_type": "code",
   "execution_count": 64,
   "id": "c5a7c846-bda1-4795-8ad7-45398b649442",
   "metadata": {},
   "outputs": [
    {
     "data": {
      "text/plain": [
       "'B'"
      ]
     },
     "execution_count": 64,
     "metadata": {},
     "output_type": "execute_result"
    }
   ],
   "source": [
    "calculateGrade(88)"
   ]
  },
  {
   "cell_type": "code",
   "execution_count": 66,
   "id": "da8becf6-3da0-4609-92fe-1762417f0f45",
   "metadata": {},
   "outputs": [
    {
     "data": {
      "text/plain": [
       "'D'"
      ]
     },
     "execution_count": 66,
     "metadata": {},
     "output_type": "execute_result"
    }
   ],
   "source": [
    "calculateGrade(65)"
   ]
  },
  {
   "cell_type": "markdown",
   "id": "a7e357e7-f9d9-4088-a62b-437e17b5cd93",
   "metadata": {},
   "source": [
    "9) Sum of Squares with Loop: Write a function called sumOfSquares that takes a positive integer n as input and calculates the sum of the squares of all positive integers up to n using a loop. The function should return the resulting sum"
   ]
  },
  {
   "cell_type": "code",
   "execution_count": 69,
   "id": "3a6944a8-5327-4e70-a40f-01ae093a91a4",
   "metadata": {},
   "outputs": [],
   "source": [
    "def sumOfSquares(n):\n",
    "    #initialise the sum:\n",
    "    squaresum = 0\n",
    "    #loop for desired range:\n",
    "    for i in range(1, n+1):\n",
    "        squaresum = squaresum + (i**2)\n",
    "    return squaresum"
   ]
  },
  {
   "cell_type": "code",
   "execution_count": 70,
   "id": "45f013c8-8510-43ac-9569-dc1b057ac057",
   "metadata": {},
   "outputs": [
    {
     "data": {
      "text/plain": [
       "55"
      ]
     },
     "execution_count": 70,
     "metadata": {},
     "output_type": "execute_result"
    }
   ],
   "source": [
    "sumOfSquares(5)"
   ]
  },
  {
   "cell_type": "markdown",
   "id": "96a23ff3-e2e8-4b44-8b16-59fcf02d102e",
   "metadata": {},
   "source": [
    "10) Quadratic Equation Solver: Write a function called solveQuadratic that takes three numbers (a, b, c) as input, representing the coefficients of a quadratic equation ax^2 + bx +c = 0, and returns the solutions as a tuple. If the equation has no real roots, return None"
   ]
  },
  {
   "cell_type": "code",
   "execution_count": 80,
   "id": "f61a8b8e-de2e-4d7f-ade1-33eb6900ca43",
   "metadata": {},
   "outputs": [],
   "source": [
    "def solveQuadratic(a,b,c):\n",
    "    #use formula for finding roots (-b +- sqrt(b^2 -4ac))/2a\n",
    "    #if (b^2 - 4ac) is negative, there are no real roots\n",
    "\n",
    "    #real roots checker:\n",
    "    check = b**2 -(4*a*c)\n",
    "\n",
    "    if check >= 0:\n",
    "        #root x1:\n",
    "        x_1 = (-b + check**0.5)/(2*a)\n",
    "        #root x2:\n",
    "        x_2 = (-b - check**0.5)/(2*a)\n",
    "\n",
    "        return (x_1, x_2)\n",
    "    else:\n",
    "        return \"None\"\n",
    "\n"
   ]
  },
  {
   "cell_type": "code",
   "execution_count": 81,
   "id": "ae1e14ec-46e2-4ed2-b70d-f3772b28e00b",
   "metadata": {},
   "outputs": [
    {
     "data": {
      "text/plain": [
       "(1.5, 1.3333333333333333)"
      ]
     },
     "execution_count": 81,
     "metadata": {},
     "output_type": "execute_result"
    }
   ],
   "source": [
    "solveQuadratic(6,-17,12)"
   ]
  },
  {
   "cell_type": "code",
   "execution_count": 82,
   "id": "e23017d0-89cb-4f66-9ad8-3223f60a7cdf",
   "metadata": {},
   "outputs": [
    {
     "data": {
      "text/plain": [
       "(5.0, -3.0)"
      ]
     },
     "execution_count": 82,
     "metadata": {},
     "output_type": "execute_result"
    }
   ],
   "source": [
    "solveQuadratic(3,-6,-45)"
   ]
  },
  {
   "cell_type": "code",
   "execution_count": null,
   "id": "dc54c62d-bf42-4fe8-b07c-d5ea60ed7bc5",
   "metadata": {},
   "outputs": [],
   "source": []
  }
 ],
 "metadata": {
  "kernelspec": {
   "display_name": "Python 3 (ipykernel)",
   "language": "python",
   "name": "python3"
  },
  "language_info": {
   "codemirror_mode": {
    "name": "ipython",
    "version": 3
   },
   "file_extension": ".py",
   "mimetype": "text/x-python",
   "name": "python",
   "nbconvert_exporter": "python",
   "pygments_lexer": "ipython3",
   "version": "3.12.2"
  }
 },
 "nbformat": 4,
 "nbformat_minor": 5
}
