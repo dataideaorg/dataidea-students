{
 "cells": [
  {
   "cell_type": "markdown",
   "id": "33ff7bf0-3148-4057-80c7-f352a105b7ed",
   "metadata": {},
   "source": [
    "**Objective type questions**\n",
    "\n",
    "1) A\n",
    "2) C\n",
    "3) A\n",
    "4) C\n",
    "5) C\n",
    "\n",
    "**Code Questions**"
   ]
  },
  {
   "cell_type": "markdown",
   "id": "34880eb0-fe1a-4677-ac8c-3a24ce1a4cec",
   "metadata": {},
   "source": [
    "6) Write a Python class named `Rectangle` with attributes `length` and `width`, and a method `area()` that returns the area of the rectangle"
   ]
  },
  {
   "cell_type": "code",
   "execution_count": null,
   "id": "85508de1-b52a-46ea-8cfd-315abca6c709",
   "metadata": {},
   "outputs": [],
   "source": [
    "class Rectangle:\n",
    "    #initialise attributes\n",
    "    def __init__(self, length, width):\n",
    "        self.length = length\n",
    "        self.width = width\n",
    "\n",
    "    #method to calculate area\n",
    "    def area(self):\n",
    "        return self.length * self.width"
   ]
  },
  {
   "cell_type": "markdown",
   "id": "b0ee55b7-dba5-4ebf-b80d-706ec7de6ea7",
   "metadata": {},
   "source": [
    "7) Define a class `Square` that inherits from the `Rectangle` class defined in question 6. Add a method `perimeter()` to calculate the perimeter of the square"
   ]
  },
  {
   "cell_type": "code",
   "execution_count": null,
   "id": "0f200a9e-5c37-40aa-8121-dec6f3f46b34",
   "metadata": {},
   "outputs": [],
   "source": [
    "class Square(Rectangle):\n",
    "    #initialise attributes:\n",
    "    def __init__(self, length, width):\n",
    "        super().__init__(length, width) #inherited attributes & methods\n",
    "    \n",
    "    #subclass method: calculate perimeter:\n",
    "    def perimeter(self):\n",
    "        return 2*(length + width)\n",
    "    \n"
   ]
  },
  {
   "cell_type": "markdown",
   "id": "0b5bf0f6-0098-4013-85da-5cd6338bfbbf",
   "metadata": {},
   "source": [
    "8) Write a Python function `calculateAge()` that takes the year of birth as input and returnsthe age. Handle any potential errors using a try-except block."
   ]
  },
  {
   "cell_type": "code",
   "execution_count": 9,
   "id": "6ae24749-c2ce-4a0f-98e8-abd6cbd012a5",
   "metadata": {},
   "outputs": [],
   "source": [
    "#import datetime module to get current year\n",
    "import datetime\n",
    "#function to calculate age:\n",
    "\n",
    "def calculateAge(birth_year):\n",
    "    #obtain current year:\n",
    "    current_date = datetime.date.today()\n",
    "    current_year = current_date.year\n",
    "    \n",
    "    #handle exceptions:\n",
    "    try:\n",
    "        #calculate age\n",
    "        age = current_year - birth_year\n",
    "    except TypeError:\n",
    "        print(\"Sorry, enter only integers\")\n",
    "    else:\n",
    "        print(\"Age: \", age)"
   ]
  },
  {
   "cell_type": "code",
   "execution_count": 10,
   "id": "7fbdce57-d8e2-4a06-a1e9-065dfd3cd25a",
   "metadata": {},
   "outputs": [
    {
     "name": "stdout",
     "output_type": "stream",
     "text": [
      "Age:  32\n"
     ]
    }
   ],
   "source": [
    "calculateAge(1992)"
   ]
  },
  {
   "cell_type": "code",
   "execution_count": 12,
   "id": "e3824b9a-b9f1-496b-821d-397358c7c5f6",
   "metadata": {},
   "outputs": [
    {
     "name": "stdout",
     "output_type": "stream",
     "text": [
      "Sorry, enter only integers\n"
     ]
    }
   ],
   "source": [
    "calculateAge(\"Bagy\")"
   ]
  },
  {
   "cell_type": "markdown",
   "id": "e081d499-346d-42ec-889d-21d345219cd9",
   "metadata": {},
   "source": [
    "9) Write a Python program that prompts the user to enter their name and age, then prints a greeting message along with their age."
   ]
  },
  {
   "cell_type": "code",
   "execution_count": 15,
   "id": "933aee80-8d28-4680-a920-4a8582f37b19",
   "metadata": {},
   "outputs": [
    {
     "name": "stdin",
     "output_type": "stream",
     "text": [
      "Please enter your name:  eva\n",
      "Please enter your age:  32\n"
     ]
    },
    {
     "name": "stdout",
     "output_type": "stream",
     "text": [
      "Good day eva. You are 32 years old.\n"
     ]
    }
   ],
   "source": [
    "#Program starts: ask user to enter name and age:\n",
    "name = input(\"Please enter your name: \")\n",
    "age = input(\"Please enter your age: \")\n",
    "\n",
    "#print greeting message:\n",
    "print(f\"Good day {name}. You are {age} years old.\")"
   ]
  },
  {
   "cell_type": "markdown",
   "id": "91dad2b8-404d-42cc-831e-bd4a8b389e2f",
   "metadata": {},
   "source": [
    "10) Define a function `divideNumbers()` that takes two numbers as input and returns the result of dividing the first number by the second. Handle the ZeroDivisionError using a try-except block."
   ]
  },
  {
   "cell_type": "code",
   "execution_count": 19,
   "id": "2ac6c94b-5904-40de-afa2-257c1f67208e",
   "metadata": {},
   "outputs": [],
   "source": [
    "def divideNumbers(num1, num2):\n",
    "    try:\n",
    "        #divide first number by second:\n",
    "        result = num1/num2\n",
    "    except ZeroDivisionError:\n",
    "        print(\"You cannot divide a number by Zero, the second number should not be zero\")\n",
    "    else:\n",
    "        print(f\"{num1} divided by {num2} is {result}\")"
   ]
  },
  {
   "cell_type": "code",
   "execution_count": 20,
   "id": "5c32f8b6-6c50-4e89-914a-2cead4c6e935",
   "metadata": {},
   "outputs": [
    {
     "name": "stdout",
     "output_type": "stream",
     "text": [
      "78 divided by 24 is 3.25.\n"
     ]
    }
   ],
   "source": [
    "divideNumbers(78,24)"
   ]
  },
  {
   "cell_type": "code",
   "execution_count": 21,
   "id": "34ebffd8-1e0e-485c-b8fb-908fad6de0c2",
   "metadata": {},
   "outputs": [
    {
     "name": "stdout",
     "output_type": "stream",
     "text": [
      "You cannot divide a number by Zero, the second number should not be zero\n"
     ]
    }
   ],
   "source": [
    "divideNumbers(8,0)"
   ]
  },
  {
   "cell_type": "code",
   "execution_count": null,
   "id": "917d6ece-6bb6-4464-b15a-d2498af447fe",
   "metadata": {},
   "outputs": [],
   "source": []
  }
 ],
 "metadata": {
  "kernelspec": {
   "display_name": "Python 3 (ipykernel)",
   "language": "python",
   "name": "python3"
  },
  "language_info": {
   "codemirror_mode": {
    "name": "ipython",
    "version": 3
   },
   "file_extension": ".py",
   "mimetype": "text/x-python",
   "name": "python",
   "nbconvert_exporter": "python",
   "pygments_lexer": "ipython3",
   "version": "3.12.2"
  }
 },
 "nbformat": 4,
 "nbformat_minor": 5
}
