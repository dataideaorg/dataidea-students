{
 "cells": [
  {
   "cell_type": "markdown",
   "id": "b13c76ab-f49a-47b7-be8f-831897d92aa5",
   "metadata": {},
   "source": [
    "1) B\n",
    "2) B\n",
    "3) A x\n",
    "4) A x\n",
    "5) C\n",
    "6) B\n",
    "7) A\n",
    "8) A\n",
    "9) B\n",
    "10) B"
   ]
  },
  {
   "cell_type": "markdown",
   "id": "6b95a6bc-103d-4e83-8dbe-77e01067c242",
   "metadata": {},
   "source": [
    "Score: 8/10\n",
    "\n",
    "Corrections:\n",
    "3) C\n",
    "4) C or D are acceptable by me\n"
   ]
  }
 ],
 "metadata": {
  "kernelspec": {
   "display_name": "Python 3 (ipykernel)",
   "language": "python",
   "name": "python3"
  },
  "language_info": {
   "codemirror_mode": {
    "name": "ipython",
    "version": 3
   },
   "file_extension": ".py",
   "mimetype": "text/x-python",
   "name": "python",
   "nbconvert_exporter": "python",
   "pygments_lexer": "ipython3",
   "version": "3.12.2"
  }
 },
 "nbformat": 4,
 "nbformat_minor": 5
}
