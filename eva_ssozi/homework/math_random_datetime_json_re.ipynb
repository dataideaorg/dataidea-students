{
 "cells": [
  {
   "cell_type": "markdown",
   "id": "fc0a3c06-04da-4dd5-a84c-3944b1f10c89",
   "metadata": {},
   "source": [
    "### Part 1:\n",
    "1) C\n",
    "2) A\n",
    "3) B\n",
    "4) C\n",
    "5) D\n",
    "6) A\n",
    "7) RE\n",
    "8) B"
   ]
  },
  {
   "cell_type": "markdown",
   "id": "e20d1ca5-8b04-4108-a2b5-a7a51721d748",
   "metadata": {},
   "source": [
    "### Part 2"
   ]
  },
  {
   "cell_type": "code",
   "execution_count": 1,
   "id": "1c8b634a-b6fc-4fe2-9121-9a97b61e9b5c",
   "metadata": {},
   "outputs": [],
   "source": [
    "#1) Import the math module and use it to calculate the square root of 16\n",
    "import math"
   ]
  },
  {
   "cell_type": "code",
   "execution_count": 2,
   "id": "0a281a7b-3ac5-46e2-848e-37e05144a271",
   "metadata": {},
   "outputs": [
    {
     "data": {
      "text/plain": [
       "4"
      ]
     },
     "execution_count": 2,
     "metadata": {},
     "output_type": "execute_result"
    }
   ],
   "source": [
    "math.isqrt(16)"
   ]
  },
  {
   "cell_type": "code",
   "execution_count": 3,
   "id": "f49efba7-53bc-46be-bcad-c0b762c78219",
   "metadata": {},
   "outputs": [],
   "source": [
    "#2) Import the random module and use it to generate a random integer between 1 and 10(inclusive).\n",
    "import random"
   ]
  },
  {
   "cell_type": "code",
   "execution_count": 4,
   "id": "5b09cc0b-a4c9-494b-9a85-ee61e703e6ba",
   "metadata": {},
   "outputs": [
    {
     "data": {
      "text/plain": [
       "6"
      ]
     },
     "execution_count": 4,
     "metadata": {},
     "output_type": "execute_result"
    }
   ],
   "source": [
    "random.randrange(1,10,1)"
   ]
  },
  {
   "cell_type": "code",
   "execution_count": 5,
   "id": "3b1566bb-3cb6-4072-8d20-440049159b95",
   "metadata": {},
   "outputs": [],
   "source": [
    "#3) Import the datetime module and use it to print the current date and time.\n",
    "import datetime"
   ]
  },
  {
   "cell_type": "code",
   "execution_count": 7,
   "id": "5526ef46-dabf-4b97-acb1-fc276f850b50",
   "metadata": {},
   "outputs": [
    {
     "data": {
      "text/plain": [
       "datetime.datetime(2024, 3, 19, 22, 31, 22, 593448)"
      ]
     },
     "execution_count": 7,
     "metadata": {},
     "output_type": "execute_result"
    }
   ],
   "source": [
    "datetime.datetime.now()"
   ]
  },
  {
   "cell_type": "code",
   "execution_count": null,
   "id": "3693cc5a-02f1-4672-b234-9c0d8bdb63ce",
   "metadata": {},
   "outputs": [],
   "source": [
    "#4) Import the JSON module and use it to parse the following JSON string into a Pythondictionary: # '{\"name\": \"John\", \"age\": 30, \"city\": \"New York\"}')"
   ]
  },
  {
   "cell_type": "code",
   "execution_count": null,
   "id": "0eab8c3d-a0f6-4417-9066-813ae1b448c7",
   "metadata": {},
   "outputs": [],
   "source": []
  },
  {
   "cell_type": "code",
   "execution_count": null,
   "id": "66ca9c5b-722f-40b0-89b0-ad45a58e766b",
   "metadata": {},
   "outputs": [],
   "source": [
    "#5) Use regular expressions to find all email addresses in the given text."
   ]
  },
  {
   "cell_type": "code",
   "execution_count": null,
   "id": "286ee4c2-d689-4635-a82a-2aa96282267e",
   "metadata": {},
   "outputs": [],
   "source": []
  },
  {
   "cell_type": "code",
   "execution_count": null,
   "id": "b0f6b0f5-f258-43a2-85cf-873300720bdb",
   "metadata": {},
   "outputs": [],
   "source": []
  }
 ],
 "metadata": {
  "kernelspec": {
   "display_name": "Python 3 (ipykernel)",
   "language": "python",
   "name": "python3"
  },
  "language_info": {
   "codemirror_mode": {
    "name": "ipython",
    "version": 3
   },
   "file_extension": ".py",
   "mimetype": "text/x-python",
   "name": "python",
   "nbconvert_exporter": "python",
   "pygments_lexer": "ipython3",
   "version": "3.12.2"
  }
 },
 "nbformat": 4,
 "nbformat_minor": 5
}
