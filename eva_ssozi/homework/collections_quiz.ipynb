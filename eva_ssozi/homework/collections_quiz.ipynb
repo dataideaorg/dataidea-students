{
 "cells": [
  {
   "cell_type": "markdown",
   "id": "eaea13d8-e919-434b-8658-91600c37a94e",
   "metadata": {},
   "source": [
    "### Part 1:\n",
    "1) A\n",
    "2) D\n",
    "3) C\n",
    "4) B\n",
    "5) A"
   ]
  },
  {
   "cell_type": "markdown",
   "id": "64db3b2b-2fe4-4ab1-93cb-e6e5faecbf0b",
   "metadata": {},
   "source": [
    "### Part 2:\n",
    "6) When the data to be stored in the tuple is \"read-only\" and should not be altered. For example, id numbers.\n",
    "\n",
    "7) A set is a collection of unique items while a dictionary is a collection of key-value pairs, with unique keys. A set can be used to store unique elements, whose order does not matter, while a dictionary can be used to store various pieces of information related to a particular key.\n",
    "\n",
    "8) Advantages of using lists over sets: Ordered, so the elements can be accessed using indicies. Since a set is unordered, it is not possible to access elements using indicies. This means that sets are also not ideal for sorting data. Disadvantages of lists compared to sets: Lists are slower than sets due to being ordered and mutable. Also, sets only allow uique values, hence can remove duplicates from large datasets, which lists cannot do.\n",
    "\n",
    "9) A list might need to be converted into a dictionary if we have multiple lists describing characteristics of a small group of people: for example, characteristics of students in a class. A dictionary is ideal if the same characteristics are available for every student, and if evert student has a unique identifier (key), e.g student number.\n",
    "\n",
    "10) One example is the use of a list to store results from a function: since lists allow duplicate elements, they are handy for storing results that may need to be visualised, whereas a set would eliminate duplicate values, making comparison impossible."
   ]
  },
  {
   "cell_type": "code",
   "execution_count": null,
   "id": "088d398d-2e44-4a24-9c2a-80d6307a657a",
   "metadata": {},
   "outputs": [],
   "source": []
  },
  {
   "cell_type": "code",
   "execution_count": null,
   "id": "d502dddb-df96-4d21-b719-714f525126c7",
   "metadata": {},
   "outputs": [],
   "source": []
  },
  {
   "cell_type": "code",
   "execution_count": null,
   "id": "de654d3e-14de-4eba-8dd5-1d84f5486722",
   "metadata": {},
   "outputs": [],
   "source": []
  }
 ],
 "metadata": {
  "kernelspec": {
   "display_name": "Python 3 (ipykernel)",
   "language": "python",
   "name": "python3"
  },
  "language_info": {
   "codemirror_mode": {
    "name": "ipython",
    "version": 3
   },
   "file_extension": ".py",
   "mimetype": "text/x-python",
   "name": "python",
   "nbconvert_exporter": "python",
   "pygments_lexer": "ipython3",
   "version": "3.12.2"
  }
 },
 "nbformat": 4,
 "nbformat_minor": 5
}
