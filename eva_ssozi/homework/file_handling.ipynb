{
 "cells": [
  {
   "cell_type": "markdown",
   "id": "4cd3cc92-8477-46fc-a604-14fda134b819",
   "metadata": {},
   "source": [
    "**Part 1: Objective Quiz**\n",
    "1) B\n",
    "2) D\n",
    "3) D\n",
    "4) D\n",
    "5) C\n",
    "6) C\n",
    "7) A\n",
    "8) C\n",
    "\n",
    "**Part 2: Code Quiz**"
   ]
  },
  {
   "cell_type": "markdown",
   "id": "2ecc5edd-6c64-4bac-bd2e-246226bb9bb2",
   "metadata": {},
   "source": [
    "9) Create a new file and write some contect to it"
   ]
  },
  {
   "cell_type": "code",
   "execution_count": 1,
   "id": "4a9579e8-be13-4d19-bafc-84a752474641",
   "metadata": {},
   "outputs": [],
   "source": [
    "#creating a file called filetest.py in write mode:\n",
    "file = open(r\"C:\\Users\\evass\\Desktop\\python_data_analysis\\exercises\\filetest.py\",\n",
    "            mode = \"w\")"
   ]
  },
  {
   "cell_type": "code",
   "execution_count": 2,
   "id": "f7dbaee0-b90e-44fc-bdb8-377da7f328a5",
   "metadata": {},
   "outputs": [],
   "source": [
    "#writing some content,\n",
    "file.write(\"This is an exercise in file handling. Trying to write three sentences. Okay, enough!\")\n",
    "file.close() #close file after"
   ]
  },
  {
   "cell_type": "markdown",
   "id": "d832e526-19f1-4486-8349-7e03b7f96e3d",
   "metadata": {},
   "source": [
    "10) Read the contents of the file"
   ]
  },
  {
   "cell_type": "code",
   "execution_count": 3,
   "id": "93fd0f89-82b7-423f-a92f-472e4abcd608",
   "metadata": {},
   "outputs": [
    {
     "name": "stdout",
     "output_type": "stream",
     "text": [
      "This is an exercise in file handling. Trying to write three sentences. Okay, enough!\n"
     ]
    }
   ],
   "source": [
    "#first open:\n",
    "contents = open(r\"C:\\Users\\evass\\Desktop\\python_data_analysis\\exercises\\filetest.py\",\n",
    "            mode = \"r\")\n",
    "#then read:\n",
    "print(contents.read())"
   ]
  },
  {
   "cell_type": "code",
   "execution_count": 4,
   "id": "4899dbb7-c9a8-4812-ae88-a6915f9f3594",
   "metadata": {},
   "outputs": [],
   "source": [
    "#close:\n",
    "contents.close()"
   ]
  },
  {
   "cell_type": "markdown",
   "id": "c76c59ad-9ac1-490d-b599-8cc8e76821db",
   "metadata": {},
   "source": [
    "11) Append more content to the file"
   ]
  },
  {
   "cell_type": "code",
   "execution_count": 5,
   "id": "b521db34-394e-4f98-a7a9-619696b946a2",
   "metadata": {},
   "outputs": [],
   "source": [
    "#open file in append mode:\n",
    "file = open(r\"C:\\Users\\evass\\Desktop\\python_data_analysis\\exercises\\filetest.py\",\n",
    "            mode = \"a\")"
   ]
  },
  {
   "cell_type": "code",
   "execution_count": 6,
   "id": "d3593c30-c344-4e0c-8d5c-498fb3929647",
   "metadata": {},
   "outputs": [],
   "source": [
    "#add content and close:\n",
    "file.write(\"I was asked to add more sentences to this file. It is an essay competition at this point. However, I accepted.\")\n",
    "#close:\n",
    "file.close()"
   ]
  },
  {
   "cell_type": "markdown",
   "id": "710cb6a0-550b-4804-8145-914612fafe94",
   "metadata": {},
   "source": [
    "12) Read the content of the file again to see the changes"
   ]
  },
  {
   "cell_type": "code",
   "execution_count": 7,
   "id": "5a4c6857-5ab7-4c1f-9605-6dea59e50472",
   "metadata": {},
   "outputs": [
    {
     "name": "stdout",
     "output_type": "stream",
     "text": [
      "This is an exercise in file handling. Trying to write three sentences. Okay, enough!I was asked to add more sentences to this file. It is an essay competition at this point. However, I accepted.\n"
     ]
    }
   ],
   "source": [
    "#first open:\n",
    "contents = open(r\"C:\\Users\\evass\\Desktop\\python_data_analysis\\exercises\\filetest.py\",\n",
    "            mode = \"r\")\n",
    "#then read:\n",
    "print(contents.read())"
   ]
  },
  {
   "cell_type": "code",
   "execution_count": 8,
   "id": "31d334af-4936-4c40-b858-1f924c15d7d7",
   "metadata": {},
   "outputs": [],
   "source": [
    "#then close:\n",
    "contents.close()"
   ]
  },
  {
   "cell_type": "markdown",
   "id": "10b1ad02-7320-4526-b5ea-3bcd0c1f53e3",
   "metadata": {},
   "source": [
    "13. Delete the file"
   ]
  },
  {
   "cell_type": "code",
   "execution_count": 9,
   "id": "b766ae5d-4805-4db2-b878-97a6b2b2bd97",
   "metadata": {},
   "outputs": [],
   "source": [
    "#we use the os module to delete files\n",
    "import os\n",
    "os.remove(r\"C:\\Users\\evass\\Desktop\\python_data_analysis\\exercises\\filetest.py\")"
   ]
  },
  {
   "cell_type": "code",
   "execution_count": null,
   "id": "2dd3451a-6437-486b-88c3-76b73b56ff21",
   "metadata": {},
   "outputs": [],
   "source": []
  }
 ],
 "metadata": {
  "kernelspec": {
   "display_name": "Python 3 (ipykernel)",
   "language": "python",
   "name": "python3"
  },
  "language_info": {
   "codemirror_mode": {
    "name": "ipython",
    "version": 3
   },
   "file_extension": ".py",
   "mimetype": "text/x-python",
   "name": "python",
   "nbconvert_exporter": "python",
   "pygments_lexer": "ipython3",
   "version": "3.12.2"
  }
 },
 "nbformat": 4,
 "nbformat_minor": 5
}
