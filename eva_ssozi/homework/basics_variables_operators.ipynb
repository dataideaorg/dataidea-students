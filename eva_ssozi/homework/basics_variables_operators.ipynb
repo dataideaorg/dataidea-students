{
 "cells": [
  {
   "cell_type": "markdown",
   "id": "f3be87e5-e672-49a8-9ff7-4f389cd564f8",
   "metadata": {},
   "source": [
    "1) B\n",
    "2) B\n",
    "3) B\n",
    "4) B\n",
    "5) D\n",
    "6) A\n",
    "7) A\n",
    "8) A\n",
    "9) A\n",
    "10) C"
   ]
  },
  {
   "cell_type": "code",
   "execution_count": null,
   "id": "1445a696-1681-49b8-992d-ad3c8d5c5323",
   "metadata": {},
   "outputs": [],
   "source": []
  }
 ],
 "metadata": {
  "kernelspec": {
   "display_name": "Python 3 (ipykernel)",
   "language": "python",
   "name": "python3"
  },
  "language_info": {
   "codemirror_mode": {
    "name": "ipython",
    "version": 3
   },
   "file_extension": ".py",
   "mimetype": "text/x-python",
   "name": "python",
   "nbconvert_exporter": "python",
   "pygments_lexer": "ipython3",
   "version": "3.12.2"
  }
 },
 "nbformat": 4,
 "nbformat_minor": 5
}
