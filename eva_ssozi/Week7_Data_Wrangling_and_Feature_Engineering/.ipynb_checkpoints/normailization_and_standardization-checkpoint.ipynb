{
 "cells": [
  {
   "cell_type": "markdown",
   "id": "38ef2b6c-dd2b-4549-b958-cb3b92ed9f92",
   "metadata": {},
   "source": [
    "<div style=\"background:#67FFF0; color:#000; display: flex; justify-content:space-between; padding-left:15px;\">\n",
    "    <h1>Programming For Data Science Course\n",
    "        <br>\n",
    "        Week 7: Data Wrangling and Feature Engineering\n",
    "    </h1>\n",
    "    <img src=\"../assets/dataidea-logo.png\" alt=\"DATAIDEA\" style=\"width:100px; flex:end\">\n",
    "</div>"
   ]
  },
  {
   "cell_type": "markdown",
   "id": "2e314b07-1d2f-43cf-b259-0ad8659f84af",
   "metadata": {},
   "source": [
    "## Data Normalization and Standardization\n",
    "\n",
    "#### Introduction:\n",
    "In data analysis and machine learning, preprocessing steps such as data normalization and standardization are crucial for improving the performance and interpretability of models.\n",
    "This Jupyter Notebook provides an overview of the importance of data normalization and standardization in preparing data for analysis and modeling."
   ]
  },
  {
   "cell_type": "markdown",
   "id": "19b267c9-ad35-4e32-8ed2-9370f15f910c",
   "metadata": {},
   "source": [
    "#### Importance:\n",
    "\n",
    "1. Data Normalization:\n",
    "   - Uniform Scaling: Ensures all features are scaled to a similar range, preventing dominance by features with larger scales.\n",
    "   - Improved Convergence: Facilitates faster convergence in optimization algorithms by making the loss surface more symmetric.\n",
    "   - Interpretability: Easier interpretation as values are on a consistent scale, aiding in comparison and understanding of feature importance.\n",
    "\n",
    "\n",
    "2. Data Standardization:\n",
    "   - Mean Centering: Transforms data to have a mean of 0 and a standard deviation of 1, simplifying interpretation of coefficients in linear models.\n",
    "   - Handling Different Scales: Useful when features have different scales or units, making them directly comparable.\n",
    "   - Reducing Sensitivity to Outliers: Less affected by outliers compared to normalization, leading to more robust models.\n",
    "   - Maintaining Information: Preserves relative relationships between data points without altering the distribution shape."
   ]
  },
  {
   "cell_type": "code",
   "execution_count": 2,
   "id": "ebc35ed7-0dac-417e-aa48-d3cc6e2c3e17",
   "metadata": {},
   "outputs": [],
   "source": [
    "# Data Normalization without libraries:\n",
    "def minMaxScaling(data):\n",
    "    min_val = min(data)\n",
    "    max_val = max(data)\n",
    "    scaled_data = []\n",
    "    for value in data:\n",
    "        scaled = (value - min_val) / (max_val - min_val)\n",
    "        scaled_data.append(scaled)\n",
    "    return scaled_data"
   ]
  },
  {
   "cell_type": "code",
   "execution_count": 3,
   "id": "57e3edee-617f-4f35-ba08-5e8b35328f89",
   "metadata": {},
   "outputs": [
    {
     "name": "stdout",
     "output_type": "stream",
     "text": [
      "Normalized data (Min-Max Scaling): [0.0, 0.25, 0.5, 0.75, 1.0]\n"
     ]
    }
   ],
   "source": [
    "# Example data\n",
    "data = [10, 20, 30, 40, 50]\n",
    "normalized_data = minMaxScaling(data)\n",
    "print(\"Normalized data (Min-Max Scaling):\", normalized_data)"
   ]
  },
  {
   "cell_type": "code",
   "execution_count": null,
   "id": "9dcaf240-2f90-47ba-862f-90b322135345",
   "metadata": {},
   "outputs": [],
   "source": [
    "# Data Standardization without libraries:\n",
    "def zScoreNormalization(data):\n",
    "    mean = sum(data) / len(data)\n",
    "    variance = sum((x - mean) ** 2 for x in data) / len(data)\n",
    "    std_dev = variance ** 0.5\n",
    "    standardized_data = [(x - mean) / std_dev for x in data]\n",
    "    return standardized_data"
   ]
  },
  {
   "cell_type": "code",
   "execution_count": null,
   "id": "c18f142e-6f09-45c2-977c-8b19d3fdb2f9",
   "metadata": {},
   "outputs": [],
   "source": [
    "# Example data\n",
    "data = [10, 20, 30, 40, 50]\n",
    "standardized_data = z_score_normalization(data)\n",
    "print(\"Standardized data (Z-Score Normalization):\", standardized_data)"
   ]
  },
  {
   "cell_type": "markdown",
   "id": "a3320891-7118-425d-8fbb-c3a4742ace32",
   "metadata": {},
   "source": [
    "#### Conclusion:\n",
    "\n",
    "Both data normalization and standardization are critical preprocessing steps in data analysis and machine learning.\n",
    "Their importance lies in improving model performance, interpretability, and robustness while preserving the underlying data relationships.\n",
    "The choice between normalization and standardization depends on the specific characteristics of the data and modeling requirements."
   ]
  },
  {
   "cell_type": "markdown",
   "id": "44b0f6cd-6edd-4226-bac9-42a812046130",
   "metadata": {},
   "source": [
    "<div style=\"font-style: futura; background:#67FFF0; color:#000;\n",
    "    padding:15px\">\n",
    "    <h1>Do you seriously want to learn Programming and Data Analysis with Python?</h1>\n",
    "    <p>\n",
    "If you’re serious about learning Programming, Data Analysis with Python and getting prepared for Data Science roles, I highly encourage you to enroll in my Programming for Data Science Course, which I've taught to hundreds of students. Don’t waste your time following disconnected, outdated tutorials\n",
    "    </p>\n",
    "    <p>\n",
    "    My Complete Programming for Data Science Course has everything you need in one place. \n",
    "    </p>\n",
    "    <ul>\n",
    "        The course offers:\n",
    "        <li>Duration: Usually 3-4 months</li>\n",
    "        <li>Sessions: Four times a week (one on one)</li>\n",
    "        <li>Location: Online or/and at UMF House, Sir Apollo Kagwa Road</li>\n",
    "    </ul>\n",
    "    <ul>\n",
    "        What you'l learn:\n",
    "        <li>Fundamentals of programming</li>\n",
    "        <li>Data manipulation and analysis </li>\n",
    "        <li>Visualization techniques</li>\n",
    "        <li>Statistical Analysis</li>\n",
    "        <li>Machine Learning</li>\n",
    "        <li>Database Management with SQL (optional)</li>\n",
    "        <li>Web Development with Django (optional)</li>\n",
    "    </ul>\n",
    "    <ul style=\"list-style: none\">\n",
    "    <li>Best</li>\n",
    "    <li>Juma Shafara</li>\n",
    "    <li>ML Software Developer, Coding Instructor</li>\n",
    "    <li>\n",
    "    <a href=\"mailto:jumashafara0@gmail.com\">jumashafara0@gmail.com</\n",
    "    </li>\n",
    "        <li>\n",
    "    <a href=\"tel:+256701520768\">+256701520768</a> or <a href=\"tel:+256771754118\">+256771754118</a> \n",
    "        </li>\n",
    "    </ul\n",
    "    <div>\n",
    "        <img src='../assets/profile.jpg' style=\"width:100px\" alt=\"Juma Shafara\">\n",
    "        <img src='../assets/dataidea-logo.png' style=\"width:100px\" alt=\"DATAIDEA\">\n",
    "    </div>\n",
    "</div>\n"
   ]
  }
 ],
 "metadata": {
  "kernelspec": {
   "display_name": "Python 3 (ipykernel)",
   "language": "python",
   "name": "python3"
  },
  "language_info": {
   "codemirror_mode": {
    "name": "ipython",
    "version": 3
   },
   "file_extension": ".py",
   "mimetype": "text/x-python",
   "name": "python",
   "nbconvert_exporter": "python",
   "pygments_lexer": "ipython3",
   "version": "3.10.12"
  }
 },
 "nbformat": 4,
 "nbformat_minor": 5
}
