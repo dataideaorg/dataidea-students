{
 "cells": [
  {
   "cell_type": "markdown",
   "id": "2a46bf57-0b2c-490c-96cb-f7401b7b5bd0",
   "metadata": {},
   "source": [
    "<div style=\"background:#67FFF0; color:#000; display: flex; justify-content:space-between;\">\n",
    "    <img src=\"https://lh3.googleusercontent.com/a/ACg8ocJ2Kso9dHD6qSdvkKkBE5_t0E20Sqa_DCTSSfRH53dl-sPyBZE=s576-c-no\" style=\"width:100px; flex:end\" alt=\"DATAIDEA\">\n",
    "    <h1 style=\"padding-left: 15px; font-weight:bold\">Programming For Data Science Course\n",
    "        <br>\n",
    "        Week 7: Data Wrangling and Feature Engineering\n",
    "    </h1>\n",
    "</div>"
   ]
  },
  {
   "cell_type": "markdown",
   "id": "002bb931-7d58-4306-88d9-d7a2b420b113",
   "metadata": {},
   "source": [
    "## Feature Selection\n",
    "Feature selection is a process where you automatically select those features in your data that contribute most to the prediction variable or output in which you are interested.\n",
    "\n",
    "Having irrelevant features in your data can decrease the accuracy of many models, especially linear algorithms like linear and logistic regression.\n",
    "\n",
    "Three benefits of performing feature selection before modeling your data are:\n",
    "\n",
    "- Reduces Overfitting: Less redundant data means less opportunity to make decisions based on noise.\n",
    "- Improves Accuracy: Less misleading data means modeling accuracy improves.\n",
    "- Reduces Training Time: Less data means that algorithms train faster.\n",
    "\n",
    "You can learn more about feature selection with scikit-learn in the article Feature selection."
   ]
  },
  {
   "cell_type": "code",
   "execution_count": 1,
   "id": "667c25c9-8854-46f1-b2d4-6654c09b3edb",
   "metadata": {},
   "outputs": [],
   "source": [
    "from dataidea.tabular import *\n",
    "from sklearn.model_selection import train_test_split"
   ]
  },
  {
   "cell_type": "code",
   "execution_count": 2,
   "id": "b1ab88cc-367a-4f63-b070-25789aa5c168",
   "metadata": {},
   "outputs": [],
   "source": [
    "data = load('demo')"
   ]
  },
  {
   "cell_type": "code",
   "execution_count": 3,
   "id": "60bbee77-4e48-40f0-8300-d253fec5bc40",
   "metadata": {},
   "outputs": [
    {
     "data": {
      "text/plain": [
       "\u001b[0;31mSignature:\u001b[0m \u001b[0mload\u001b[0m\u001b[0;34m(\u001b[0m\u001b[0mname\u001b[0m\u001b[0;34m:\u001b[0m \u001b[0mstr\u001b[0m \u001b[0;34m=\u001b[0m \u001b[0;32mNone\u001b[0m\u001b[0;34m,\u001b[0m \u001b[0minbuilt\u001b[0m\u001b[0;34m=\u001b[0m\u001b[0;32mTrue\u001b[0m\u001b[0;34m,\u001b[0m \u001b[0mfile_type\u001b[0m\u001b[0;34m:\u001b[0m \u001b[0mstr\u001b[0m \u001b[0;34m=\u001b[0m \u001b[0;32mNone\u001b[0m\u001b[0;34m)\u001b[0m\u001b[0;34m\u001b[0m\u001b[0;34m\u001b[0m\u001b[0m\n",
       "\u001b[0;31mDocstring:\u001b[0m\n",
       "Easily load datasets that are inbuit in DATAIDEA\n",
       "\n",
       "parameters:\n",
       "name: this is the name of the dataset, eg demo, fpl, music, titanic etc\n",
       "inbuilt: boolean to specify whether data is from DATAIDEA or custom data\n",
       "type: specifies the type of the dataset eg 'csv', 'excel' etc\n",
       "\u001b[0;31mFile:\u001b[0m      ~/venvs/dataanalysis/lib/python3.10/site-packages/dataidea/datasets.py\n",
       "\u001b[0;31mType:\u001b[0m      function"
      ]
     },
     "metadata": {},
     "output_type": "display_data"
    }
   ],
   "source": [
    "?load"
   ]
  },
  {
   "cell_type": "code",
   "execution_count": 8,
   "id": "f80a791d-afbe-4bcc-9638-a85799644289",
   "metadata": {},
   "outputs": [],
   "source": [
    "data = load('../assets/demo_cleaned.csv', inbuilt=False, file_type='csv')"
   ]
  },
  {
   "cell_type": "code",
   "execution_count": 9,
   "id": "8b1509aa-98f4-462e-aa71-8fd9ec5f6312",
   "metadata": {},
   "outputs": [
    {
     "data": {
      "text/html": [
       "<div>\n",
       "<style scoped>\n",
       "    .dataframe tbody tr th:only-of-type {\n",
       "        vertical-align: middle;\n",
       "    }\n",
       "\n",
       "    .dataframe tbody tr th {\n",
       "        vertical-align: top;\n",
       "    }\n",
       "\n",
       "    .dataframe thead th {\n",
       "        text-align: right;\n",
       "    }\n",
       "</style>\n",
       "<table border=\"1\" class=\"dataframe\">\n",
       "  <thead>\n",
       "    <tr style=\"text-align: right;\">\n",
       "      <th></th>\n",
       "      <th>age</th>\n",
       "      <th>gender</th>\n",
       "      <th>marital_status</th>\n",
       "      <th>address</th>\n",
       "      <th>income</th>\n",
       "      <th>income_category</th>\n",
       "      <th>job_category</th>\n",
       "    </tr>\n",
       "  </thead>\n",
       "  <tbody>\n",
       "    <tr>\n",
       "      <th>0</th>\n",
       "      <td>55</td>\n",
       "      <td>f</td>\n",
       "      <td>1</td>\n",
       "      <td>12</td>\n",
       "      <td>72</td>\n",
       "      <td>3</td>\n",
       "      <td>3</td>\n",
       "    </tr>\n",
       "    <tr>\n",
       "      <th>1</th>\n",
       "      <td>56</td>\n",
       "      <td>m</td>\n",
       "      <td>0</td>\n",
       "      <td>29</td>\n",
       "      <td>153</td>\n",
       "      <td>4</td>\n",
       "      <td>3</td>\n",
       "    </tr>\n",
       "    <tr>\n",
       "      <th>2</th>\n",
       "      <td>24</td>\n",
       "      <td>m</td>\n",
       "      <td>1</td>\n",
       "      <td>4</td>\n",
       "      <td>26</td>\n",
       "      <td>2</td>\n",
       "      <td>1</td>\n",
       "    </tr>\n",
       "    <tr>\n",
       "      <th>3</th>\n",
       "      <td>45</td>\n",
       "      <td>m</td>\n",
       "      <td>0</td>\n",
       "      <td>9</td>\n",
       "      <td>76</td>\n",
       "      <td>4</td>\n",
       "      <td>2</td>\n",
       "    </tr>\n",
       "    <tr>\n",
       "      <th>4</th>\n",
       "      <td>44</td>\n",
       "      <td>m</td>\n",
       "      <td>1</td>\n",
       "      <td>17</td>\n",
       "      <td>144</td>\n",
       "      <td>4</td>\n",
       "      <td>3</td>\n",
       "    </tr>\n",
       "    <tr>\n",
       "      <th>...</th>\n",
       "      <td>...</td>\n",
       "      <td>...</td>\n",
       "      <td>...</td>\n",
       "      <td>...</td>\n",
       "      <td>...</td>\n",
       "      <td>...</td>\n",
       "      <td>...</td>\n",
       "    </tr>\n",
       "    <tr>\n",
       "      <th>188</th>\n",
       "      <td>45</td>\n",
       "      <td>f</td>\n",
       "      <td>0</td>\n",
       "      <td>3</td>\n",
       "      <td>86</td>\n",
       "      <td>4</td>\n",
       "      <td>3</td>\n",
       "    </tr>\n",
       "    <tr>\n",
       "      <th>189</th>\n",
       "      <td>23</td>\n",
       "      <td>f</td>\n",
       "      <td>1</td>\n",
       "      <td>2</td>\n",
       "      <td>27</td>\n",
       "      <td>2</td>\n",
       "      <td>1</td>\n",
       "    </tr>\n",
       "    <tr>\n",
       "      <th>190</th>\n",
       "      <td>66</td>\n",
       "      <td>f</td>\n",
       "      <td>1</td>\n",
       "      <td>32</td>\n",
       "      <td>11</td>\n",
       "      <td>1</td>\n",
       "      <td>2</td>\n",
       "    </tr>\n",
       "    <tr>\n",
       "      <th>191</th>\n",
       "      <td>49</td>\n",
       "      <td>m</td>\n",
       "      <td>0</td>\n",
       "      <td>4</td>\n",
       "      <td>30</td>\n",
       "      <td>2</td>\n",
       "      <td>1</td>\n",
       "    </tr>\n",
       "    <tr>\n",
       "      <th>192</th>\n",
       "      <td>45</td>\n",
       "      <td>m</td>\n",
       "      <td>0</td>\n",
       "      <td>1</td>\n",
       "      <td>147</td>\n",
       "      <td>4</td>\n",
       "      <td>3</td>\n",
       "    </tr>\n",
       "  </tbody>\n",
       "</table>\n",
       "<p>193 rows × 7 columns</p>\n",
       "</div>"
      ],
      "text/plain": [
       "     age gender  marital_status  address  income  income_category  \\\n",
       "0     55      f               1       12      72                3   \n",
       "1     56      m               0       29     153                4   \n",
       "2     24      m               1        4      26                2   \n",
       "3     45      m               0        9      76                4   \n",
       "4     44      m               1       17     144                4   \n",
       "..   ...    ...             ...      ...     ...              ...   \n",
       "188   45      f               0        3      86                4   \n",
       "189   23      f               1        2      27                2   \n",
       "190   66      f               1       32      11                1   \n",
       "191   49      m               0        4      30                2   \n",
       "192   45      m               0        1     147                4   \n",
       "\n",
       "     job_category  \n",
       "0               3  \n",
       "1               3  \n",
       "2               1  \n",
       "3               2  \n",
       "4               3  \n",
       "..            ...  \n",
       "188             3  \n",
       "189             1  \n",
       "190             2  \n",
       "191             1  \n",
       "192             3  \n",
       "\n",
       "[193 rows x 7 columns]"
      ]
     },
     "execution_count": 9,
     "metadata": {},
     "output_type": "execute_result"
    }
   ],
   "source": [
    "data"
   ]
  },
  {
   "cell_type": "markdown",
   "id": "c44563b5-79d7-4764-b2e3-6dafa7086138",
   "metadata": {},
   "source": [
    "#### Univariate Selection\n",
    "Statistical tests can be used to select those features that have the strongest relationship with the output variable.\n",
    "\n",
    "The scikit-learn library provides the SelectKBest class that can be used with a suite of different statistical tests to select a specific number of features.\n",
    "\n",
    "Many different statistical test scan be used with this selection method. For example the ANOVA F-value method is appropriate for numerical inputs and categorical data, as we see in the Pima dataset. This can be used via the f_classif() function. We will select the 4 best features using this method in the example below."
   ]
  },
  {
   "cell_type": "code",
   "execution_count": 3,
   "id": "6eba4256-f59c-4c5f-a72d-631ab99b1c9d",
   "metadata": {},
   "outputs": [],
   "source": [
    "from sklearn.feature_selection import SelectKBest\n",
    "from sklearn.feature_selection import f_classif"
   ]
  },
  {
   "cell_type": "code",
   "execution_count": 4,
   "id": "9e15545e-c179-427d-a400-2a0ebcc523c2",
   "metadata": {},
   "outputs": [
    {
     "data": {
      "text/html": [
       "<div>\n",
       "<style scoped>\n",
       "    .dataframe tbody tr th:only-of-type {\n",
       "        vertical-align: middle;\n",
       "    }\n",
       "\n",
       "    .dataframe tbody tr th {\n",
       "        vertical-align: top;\n",
       "    }\n",
       "\n",
       "    .dataframe thead th {\n",
       "        text-align: right;\n",
       "    }\n",
       "</style>\n",
       "<table border=\"1\" class=\"dataframe\">\n",
       "  <thead>\n",
       "    <tr style=\"text-align: right;\">\n",
       "      <th></th>\n",
       "      <th>age</th>\n",
       "      <th>gender</th>\n",
       "      <th>marital_status</th>\n",
       "      <th>address</th>\n",
       "      <th>income</th>\n",
       "      <th>income_category</th>\n",
       "      <th>job_category</th>\n",
       "    </tr>\n",
       "  </thead>\n",
       "  <tbody>\n",
       "    <tr>\n",
       "      <th>0</th>\n",
       "      <td>55</td>\n",
       "      <td>f</td>\n",
       "      <td>1</td>\n",
       "      <td>12</td>\n",
       "      <td>72</td>\n",
       "      <td>3</td>\n",
       "      <td>3</td>\n",
       "    </tr>\n",
       "    <tr>\n",
       "      <th>1</th>\n",
       "      <td>56</td>\n",
       "      <td>m</td>\n",
       "      <td>0</td>\n",
       "      <td>29</td>\n",
       "      <td>153</td>\n",
       "      <td>4</td>\n",
       "      <td>3</td>\n",
       "    </tr>\n",
       "    <tr>\n",
       "      <th>2</th>\n",
       "      <td>24</td>\n",
       "      <td>m</td>\n",
       "      <td>1</td>\n",
       "      <td>4</td>\n",
       "      <td>26</td>\n",
       "      <td>2</td>\n",
       "      <td>1</td>\n",
       "    </tr>\n",
       "    <tr>\n",
       "      <th>3</th>\n",
       "      <td>45</td>\n",
       "      <td>m</td>\n",
       "      <td>0</td>\n",
       "      <td>9</td>\n",
       "      <td>76</td>\n",
       "      <td>4</td>\n",
       "      <td>2</td>\n",
       "    </tr>\n",
       "    <tr>\n",
       "      <th>4</th>\n",
       "      <td>44</td>\n",
       "      <td>m</td>\n",
       "      <td>1</td>\n",
       "      <td>17</td>\n",
       "      <td>144</td>\n",
       "      <td>4</td>\n",
       "      <td>3</td>\n",
       "    </tr>\n",
       "  </tbody>\n",
       "</table>\n",
       "</div>"
      ],
      "text/plain": [
       "   age gender  marital_status  address  income  income_category  job_category\n",
       "0   55      f               1       12      72                3             3\n",
       "1   56      m               0       29     153                4             3\n",
       "2   24      m               1        4      26                2             1\n",
       "3   45      m               0        9      76                4             2\n",
       "4   44      m               1       17     144                4             3"
      ]
     },
     "execution_count": 4,
     "metadata": {},
     "output_type": "execute_result"
    }
   ],
   "source": [
    "data.head(n=5)"
   ]
  },
  {
   "cell_type": "code",
   "execution_count": 5,
   "id": "b18ad4fa-fedc-4177-a938-40e8fb4e6ac1",
   "metadata": {},
   "outputs": [],
   "source": [
    "dummed_data = pd.get_dummies(data, \n",
    "                             columns=['gender'], \n",
    "                             drop_first=True,\n",
    "                            dtype='int')"
   ]
  },
  {
   "cell_type": "code",
   "execution_count": 6,
   "id": "51d92f80-f9f6-4f92-8ce3-1f0979357a80",
   "metadata": {},
   "outputs": [],
   "source": [
    "X = dummed_data.drop('marital_status', axis=1)\n",
    "y = dummed_data.marital_status"
   ]
  },
  {
   "cell_type": "code",
   "execution_count": 7,
   "id": "eed67177-f6d7-4d0c-ac76-81bd9dbd323e",
   "metadata": {},
   "outputs": [],
   "source": [
    "X_train, X_test, y_train, y_test = train_test_split(X, y, test_size=0.25)"
   ]
  },
  {
   "cell_type": "code",
   "execution_count": 8,
   "id": "19c4784c-a9b1-4e44-8530-eee71a6d2f77",
   "metadata": {},
   "outputs": [],
   "source": [
    "# feature extraction\n",
    "test = SelectKBest(score_func=f_classif, k=6)\n",
    "fit = test.fit(X, y)\n",
    "# summarize scores\n",
    "test_scores = fit.scores_\n",
    "features = fit.transform(X)\n",
    "# summarize selected features"
   ]
  },
  {
   "cell_type": "code",
   "execution_count": 9,
   "id": "f256d55b-780d-4590-a0fb-b5a5ecdf5eaf",
   "metadata": {},
   "outputs": [],
   "source": [
    "from sklearn.feature_selection import f_regression\n",
    "\n",
    "test = SelectKBest(score_func=f_regression, k=5) # Select top 5 features, adjust k as needed\n",
    "\n",
    "# Fit the selector to the data\n",
    "fit = test.fit(X, y)\n",
    "\n",
    "# get scores\n",
    "test_scores = fit.scores_\n",
    "\n",
    "# summarize selected features\n",
    "features = fit.transform(X)\n",
    "\n",
    "# Get the selected feature indices\n",
    "selected_indices = fit.get_support(indices=True)"
   ]
  },
  {
   "cell_type": "markdown",
   "id": "ce0298ef-12ed-4ea1-b021-d1b22c5eb7f3",
   "metadata": {},
   "source": [
    "#### Recursive Feature Elimination\n",
    "The Recursive Feature Elimination (or RFE) works by recursively removing attributes and building a model on those attributes that remain.\n",
    "\n",
    "It uses the model accuracy to identify which attributes (and combination of attributes) contribute the most to predicting the target attribute.\n",
    "\n",
    "You can learn more about the RFE class in the scikit-learn documentation."
   ]
  },
  {
   "cell_type": "code",
   "execution_count": 36,
   "id": "d3402545-d4e9-40da-9b46-7f8d8025fbed",
   "metadata": {},
   "outputs": [],
   "source": [
    "from sklearn.feature_selection import RFE\n",
    "from sklearn.linear_model import LogisticRegression"
   ]
  },
  {
   "cell_type": "code",
   "execution_count": 118,
   "id": "c8bfb229-f48d-407b-9090-fed93afd4951",
   "metadata": {},
   "outputs": [
    {
     "name": "stdout",
     "output_type": "stream",
     "text": [
      "Num Features: 3\n",
      "Selected Features: [False False False  True  True  True]\n",
      "Feature Ranking: [2 3 4 1 1 1]\n"
     ]
    }
   ],
   "source": [
    "# feature extraction\n",
    "model = LogisticRegression()\n",
    "rfe = RFE(model)\n",
    "fit = rfe.fit(X, y)\n",
    "print(\"Num Features: %d\" % fit.n_features_)\n",
    "print(\"Selected Features: %s\" % fit.support_)\n",
    "print(\"Feature Ranking: %s\" % fit.ranking_)"
   ]
  },
  {
   "cell_type": "markdown",
   "id": "f54b853c-53d7-4f86-84fe-2f0ecb21932f",
   "metadata": {},
   "source": [
    "#### Feature Importance\n",
    "Bagged decision trees like Random Forest and Extra Trees can be used to estimate the importance of features.\n",
    "\n",
    "In the example below we construct a ExtraTreesClassifier classifier for the Pima Indians onset of diabetes dataset. You can learn more about the ExtraTreesClassifier class in the scikit-learn API."
   ]
  },
  {
   "cell_type": "code",
   "execution_count": 77,
   "id": "c573aaa5-95ef-4c34-9ba1-9056c73fc9f6",
   "metadata": {},
   "outputs": [],
   "source": [
    "from sklearn.ensemble import ExtraTreesClassifier\n",
    "from sklearn.ensemble import RandomForestClassifier"
   ]
  },
  {
   "cell_type": "code",
   "execution_count": 120,
   "id": "7c86f3d2-589c-41cc-bcb9-c89f6c8424d9",
   "metadata": {},
   "outputs": [
    {
     "name": "stdout",
     "output_type": "stream",
     "text": [
      "[0.29681826 0.24594035 0.25805697 0.07274302 0.08510347 0.04133793]\n"
     ]
    }
   ],
   "source": [
    "# feature extraction\n",
    "model = ExtraTreesClassifier(n_estimators=100)\n",
    "model.fit(X, y)\n",
    "print(model.feature_importances_)"
   ]
  },
  {
   "cell_type": "code",
   "execution_count": 115,
   "id": "7db51618-e308-4d73-acc4-b4562f6cfde7",
   "metadata": {},
   "outputs": [],
   "source": [
    "rfc = RandomForestClassifier()"
   ]
  },
  {
   "cell_type": "code",
   "execution_count": 116,
   "id": "88af11bd-578e-4c09-a9f4-10d75d81b434",
   "metadata": {},
   "outputs": [
    {
     "data": {
      "text/plain": [
       "0.4897959183673469"
      ]
     },
     "execution_count": 116,
     "metadata": {},
     "output_type": "execute_result"
    }
   ],
   "source": [
    "rfc.fit(X_train, y_train)\n",
    "rfc.score(X_test, y_test)"
   ]
  },
  {
   "cell_type": "code",
   "execution_count": 91,
   "id": "43cb1937-54b1-4395-a9eb-31981f187068",
   "metadata": {},
   "outputs": [
    {
     "data": {
      "text/html": [
       "<div>\n",
       "<style scoped>\n",
       "    .dataframe tbody tr th:only-of-type {\n",
       "        vertical-align: middle;\n",
       "    }\n",
       "\n",
       "    .dataframe tbody tr th {\n",
       "        vertical-align: top;\n",
       "    }\n",
       "\n",
       "    .dataframe thead th {\n",
       "        text-align: right;\n",
       "    }\n",
       "</style>\n",
       "<table border=\"1\" class=\"dataframe\">\n",
       "  <thead>\n",
       "    <tr style=\"text-align: right;\">\n",
       "      <th></th>\n",
       "      <th>age</th>\n",
       "      <th>address</th>\n",
       "      <th>income</th>\n",
       "      <th>income_category</th>\n",
       "      <th>job_category</th>\n",
       "      <th>gender_m</th>\n",
       "    </tr>\n",
       "  </thead>\n",
       "  <tbody>\n",
       "    <tr>\n",
       "      <th>0</th>\n",
       "      <td>55</td>\n",
       "      <td>12</td>\n",
       "      <td>72</td>\n",
       "      <td>3</td>\n",
       "      <td>3</td>\n",
       "      <td>0</td>\n",
       "    </tr>\n",
       "    <tr>\n",
       "      <th>1</th>\n",
       "      <td>56</td>\n",
       "      <td>29</td>\n",
       "      <td>153</td>\n",
       "      <td>4</td>\n",
       "      <td>3</td>\n",
       "      <td>1</td>\n",
       "    </tr>\n",
       "    <tr>\n",
       "      <th>2</th>\n",
       "      <td>24</td>\n",
       "      <td>4</td>\n",
       "      <td>26</td>\n",
       "      <td>2</td>\n",
       "      <td>1</td>\n",
       "      <td>1</td>\n",
       "    </tr>\n",
       "  </tbody>\n",
       "</table>\n",
       "</div>"
      ],
      "text/plain": [
       "   age  address  income  income_category  job_category  gender_m\n",
       "0   55       12      72                3             3         0\n",
       "1   56       29     153                4             3         1\n",
       "2   24        4      26                2             1         1"
      ]
     },
     "execution_count": 91,
     "metadata": {},
     "output_type": "execute_result"
    }
   ],
   "source": [
    "X.head(n=3)"
   ]
  },
  {
   "cell_type": "code",
   "execution_count": 117,
   "id": "30be7c03-938e-47b0-a6f4-17eddbbf5356",
   "metadata": {},
   "outputs": [
    {
     "data": {
      "text/plain": [
       "0.4897959183673469"
      ]
     },
     "execution_count": 117,
     "metadata": {},
     "output_type": "execute_result"
    }
   ],
   "source": [
    "rfc.fit(X_train[['income_category',\t'job_category',\t'gender_m']], y_train)\n",
    "rfc.score(X_test[['income_category',\t'job_category',\t'gender_m']], y_test)"
   ]
  },
  {
   "cell_type": "code",
   "execution_count": null,
   "id": "f17725ef-d9e9-4092-a804-a3ebe45dac7f",
   "metadata": {},
   "outputs": [],
   "source": []
  },
  {
   "cell_type": "markdown",
   "id": "865336ab-091b-421d-a535-182ad88833d5",
   "metadata": {},
   "source": [
    "<div style=\"font-style: futura; background:#67FFF0; color:#000;\n",
    "    padding:15px\">\n",
    "    <h1>Do you seriously want to learn Programming and Data Analysis with Python?</h1>\n",
    "    <p>\n",
    "If you’re serious about learning Programming, Data Analysis with Python and getting prepared for Data Science roles, I highly encourage you to enroll in my Programming for Data Science Course, which I've taught to hundreds of students. Don’t waste your time following disconnected, outdated tutorials\n",
    "    </p>\n",
    "    <p>\n",
    "    My Complete Programming for Data Science Course has everything you need in one place. \n",
    "    </p>\n",
    "    <ul>\n",
    "        The course offers:\n",
    "        <li>Duration: Usually 3-4 months</li>\n",
    "        <li>Sessions: Four times a week (one on one)</li>\n",
    "        <li>Location: Online or/and at UMF House, Sir Apollo Kagwa Road</li>\n",
    "    </ul>\n",
    "    <ul>\n",
    "        What you'l learn:\n",
    "        <li>Fundamentals of programming</li>\n",
    "        <li>Data manipulation and analysis </li>\n",
    "        <li>Visualization techniques</li>\n",
    "        <li>Introduction to machine learning</li>\n",
    "        <li>Database Management with SQL (optional)</li>\n",
    "        <li>Web Development with Django (optional)</li>\n",
    "    </ul>\n",
    "    <ul style=\"list-style: none\">\n",
    "    <li>Best</li>\n",
    "    <li>Juma Shafara</li>\n",
    "    <li>Data Scientis, Instructor</li>\n",
    "    <li>\n",
    "    <a href=\"mailto:jumashafara0@gmail.com\">jumashafara0@gmail.com</\n",
    "    </li>\n",
    "        <li>\n",
    "    <a href=\"tel:+256701520768\">+256701520768</a> or <a href=\"tel:+256771754118\">+256771754118</a> \n",
    "        </li>\n",
    "    </ul\n",
    "    <div>\n",
    "        <img src='../assets/profile.jpg' style=\"width:100px\" alt=\"Juma Shafara\">\n",
    "        <img src='../assets/dataidea-logo.png' style=\"width:100px\" alt=\"DATAIDEA\">\n",
    "    </div>\n",
    "</div>\n"
   ]
  }
 ],
 "metadata": {
  "kernelspec": {
   "display_name": "Python 3 (ipykernel)",
   "language": "python",
   "name": "python3"
  },
  "language_info": {
   "codemirror_mode": {
    "name": "ipython",
    "version": 3
   },
   "file_extension": ".py",
   "mimetype": "text/x-python",
   "name": "python",
   "nbconvert_exporter": "python",
   "pygments_lexer": "ipython3",
   "version": "3.10.12"
  }
 },
 "nbformat": 4,
 "nbformat_minor": 5
}
