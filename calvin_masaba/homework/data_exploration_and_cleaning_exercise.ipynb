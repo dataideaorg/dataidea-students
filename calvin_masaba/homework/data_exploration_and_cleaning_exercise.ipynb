{
 "cells": [
  {
   "cell_type": "markdown",
   "id": "c7053191-5801-4e26-a875-b395076e3417",
   "metadata": {},
   "source": [
    "<div style=\"background:#67FFF0; color:#000; display: flex; justify-content:space-between;\">\n",
    "    <img src=\"../assets/dataidea-logo.png\" style=\"width:100px; flex:end\" alt=\"DATAIDEA\">\n",
    "    <h1 style=\"padding-left: 15px; font-weight:bold\">Programming For Data Science Course\n",
    "        <br>\n",
    "        Week 4: Introduction to Machine Learning\n",
    "    </h1>\n",
    "</div>"
   ]
  },
  {
   "cell_type": "markdown",
   "id": "35e72a7e-08f9-4573-98b6-f8a418903cb5",
   "metadata": {},
   "source": [
    "## Data Exploration and Cleaning Exercise"
   ]
  },
  {
   "cell_type": "markdown",
   "id": "3256d898-a4ae-43a3-bace-470e819ec2bc",
   "metadata": {},
   "source": [
    "1. Load demo.xlsx dataset"
   ]
  },
  {
   "cell_type": "code",
   "execution_count": 43,
   "id": "5054d2f2-7909-47cf-a484-7f561c71877e",
   "metadata": {},
   "outputs": [],
   "source": [
    "import pandas as pd"
   ]
  },
  {
   "cell_type": "code",
   "execution_count": 44,
   "id": "0bdf73bc-88c0-4a16-9f29-c8faa85c8b67",
   "metadata": {},
   "outputs": [
    {
     "data": {
      "text/html": [
       "<div>\n",
       "<style scoped>\n",
       "    .dataframe tbody tr th:only-of-type {\n",
       "        vertical-align: middle;\n",
       "    }\n",
       "\n",
       "    .dataframe tbody tr th {\n",
       "        vertical-align: top;\n",
       "    }\n",
       "\n",
       "    .dataframe thead th {\n",
       "        text-align: right;\n",
       "    }\n",
       "</style>\n",
       "<table border=\"1\" class=\"dataframe\">\n",
       "  <thead>\n",
       "    <tr style=\"text-align: right;\">\n",
       "      <th></th>\n",
       "      <th>Age</th>\n",
       "      <th>Gender</th>\n",
       "      <th>Marital Status</th>\n",
       "      <th>Address</th>\n",
       "      <th>Income</th>\n",
       "      <th>Income Category</th>\n",
       "      <th>Job Category</th>\n",
       "    </tr>\n",
       "  </thead>\n",
       "  <tbody>\n",
       "    <tr>\n",
       "      <th>0</th>\n",
       "      <td>55</td>\n",
       "      <td>f</td>\n",
       "      <td>1</td>\n",
       "      <td>12</td>\n",
       "      <td>72</td>\n",
       "      <td>3</td>\n",
       "      <td>3</td>\n",
       "    </tr>\n",
       "    <tr>\n",
       "      <th>1</th>\n",
       "      <td>56</td>\n",
       "      <td>m</td>\n",
       "      <td>0</td>\n",
       "      <td>29</td>\n",
       "      <td>153</td>\n",
       "      <td>4</td>\n",
       "      <td>3</td>\n",
       "    </tr>\n",
       "    <tr>\n",
       "      <th>2</th>\n",
       "      <td>28</td>\n",
       "      <td>f</td>\n",
       "      <td>no answer</td>\n",
       "      <td>9</td>\n",
       "      <td>28</td>\n",
       "      <td>2</td>\n",
       "      <td>1</td>\n",
       "    </tr>\n",
       "    <tr>\n",
       "      <th>3</th>\n",
       "      <td>24</td>\n",
       "      <td>m</td>\n",
       "      <td>1</td>\n",
       "      <td>4</td>\n",
       "      <td>26</td>\n",
       "      <td>2</td>\n",
       "      <td>1</td>\n",
       "    </tr>\n",
       "    <tr>\n",
       "      <th>4</th>\n",
       "      <td>25</td>\n",
       "      <td>m</td>\n",
       "      <td>no answer</td>\n",
       "      <td>2</td>\n",
       "      <td>23</td>\n",
       "      <td>1</td>\n",
       "      <td>2</td>\n",
       "    </tr>\n",
       "    <tr>\n",
       "      <th>...</th>\n",
       "      <td>...</td>\n",
       "      <td>...</td>\n",
       "      <td>...</td>\n",
       "      <td>...</td>\n",
       "      <td>...</td>\n",
       "      <td>...</td>\n",
       "      <td>...</td>\n",
       "    </tr>\n",
       "    <tr>\n",
       "      <th>195</th>\n",
       "      <td>45</td>\n",
       "      <td>f</td>\n",
       "      <td>0</td>\n",
       "      <td>3</td>\n",
       "      <td>86</td>\n",
       "      <td>4</td>\n",
       "      <td>3</td>\n",
       "    </tr>\n",
       "    <tr>\n",
       "      <th>196</th>\n",
       "      <td>23</td>\n",
       "      <td>f</td>\n",
       "      <td>1</td>\n",
       "      <td>2</td>\n",
       "      <td>27</td>\n",
       "      <td>2</td>\n",
       "      <td>1</td>\n",
       "    </tr>\n",
       "    <tr>\n",
       "      <th>197</th>\n",
       "      <td>66</td>\n",
       "      <td>f</td>\n",
       "      <td>1</td>\n",
       "      <td>32</td>\n",
       "      <td>11</td>\n",
       "      <td>1</td>\n",
       "      <td>2</td>\n",
       "    </tr>\n",
       "    <tr>\n",
       "      <th>198</th>\n",
       "      <td>49</td>\n",
       "      <td>m</td>\n",
       "      <td>0</td>\n",
       "      <td>4</td>\n",
       "      <td>30</td>\n",
       "      <td>2</td>\n",
       "      <td>1</td>\n",
       "    </tr>\n",
       "    <tr>\n",
       "      <th>199</th>\n",
       "      <td>45</td>\n",
       "      <td>m</td>\n",
       "      <td>0</td>\n",
       "      <td>1</td>\n",
       "      <td>147</td>\n",
       "      <td>4</td>\n",
       "      <td>3</td>\n",
       "    </tr>\n",
       "  </tbody>\n",
       "</table>\n",
       "<p>200 rows × 7 columns</p>\n",
       "</div>"
      ],
      "text/plain": [
       "     Age Gender Marital Status  Address  Income  Income Category  Job Category\n",
       "0     55      f              1       12      72                3             3\n",
       "1     56      m              0       29     153                4             3\n",
       "2     28      f      no answer        9      28                2             1\n",
       "3     24      m              1        4      26                2             1\n",
       "4     25      m      no answer        2      23                1             2\n",
       "..   ...    ...            ...      ...     ...              ...           ...\n",
       "195   45      f              0        3      86                4             3\n",
       "196   23      f              1        2      27                2             1\n",
       "197   66      f              1       32      11                1             2\n",
       "198   49      m              0        4      30                2             1\n",
       "199   45      m              0        1     147                4             3\n",
       "\n",
       "[200 rows x 7 columns]"
      ]
     },
     "execution_count": 44,
     "metadata": {},
     "output_type": "execute_result"
    }
   ],
   "source": [
    "data = pd.read_excel('./datasets/demo.xlsx')\n",
    "data"
   ]
  },
  {
   "cell_type": "markdown",
   "id": "b2a57c40-517c-4856-a775-1fa700abef0c",
   "metadata": {},
   "source": [
    "2. Rename the columns as suggested below\n",
    "\n",
    "   Old name | New name\n",
    "   ----------|--------\n",
    "    Age|age\n",
    "     Gender|gender\n",
    "    Marital Status|marital_status\n",
    "    Address|address\n",
    "    Income|income\n",
    "    Income Category|income_category\n",
    "    Job Category|job_category"
   ]
  },
  {
   "cell_type": "code",
   "execution_count": 45,
   "id": "ebf6becb-e226-4a01-91d0-ece56c46e30b",
   "metadata": {},
   "outputs": [],
   "source": [
    "cols = {\n",
    "    'Age' : 'age',\n",
    "    'Gender' : 'gender',\n",
    "    'Marital Status' : 'marital_status',\n",
    "    'Address' : 'address',\n",
    "    'Income' : 'income',\n",
    "    'Income Category' : 'income_category', \n",
    "    'Job Category' : 'job_category'\n",
    "}"
   ]
  },
  {
   "cell_type": "code",
   "execution_count": 46,
   "id": "9aa802da-4b54-4c0d-a0bd-e98bc3421f9c",
   "metadata": {},
   "outputs": [
    {
     "data": {
      "text/html": [
       "<div>\n",
       "<style scoped>\n",
       "    .dataframe tbody tr th:only-of-type {\n",
       "        vertical-align: middle;\n",
       "    }\n",
       "\n",
       "    .dataframe tbody tr th {\n",
       "        vertical-align: top;\n",
       "    }\n",
       "\n",
       "    .dataframe thead th {\n",
       "        text-align: right;\n",
       "    }\n",
       "</style>\n",
       "<table border=\"1\" class=\"dataframe\">\n",
       "  <thead>\n",
       "    <tr style=\"text-align: right;\">\n",
       "      <th></th>\n",
       "      <th>age</th>\n",
       "      <th>gender</th>\n",
       "      <th>marital_status</th>\n",
       "      <th>address</th>\n",
       "      <th>income</th>\n",
       "      <th>income_category</th>\n",
       "      <th>job_category</th>\n",
       "    </tr>\n",
       "  </thead>\n",
       "  <tbody>\n",
       "    <tr>\n",
       "      <th>0</th>\n",
       "      <td>55</td>\n",
       "      <td>f</td>\n",
       "      <td>1</td>\n",
       "      <td>12</td>\n",
       "      <td>72</td>\n",
       "      <td>3</td>\n",
       "      <td>3</td>\n",
       "    </tr>\n",
       "    <tr>\n",
       "      <th>1</th>\n",
       "      <td>56</td>\n",
       "      <td>m</td>\n",
       "      <td>0</td>\n",
       "      <td>29</td>\n",
       "      <td>153</td>\n",
       "      <td>4</td>\n",
       "      <td>3</td>\n",
       "    </tr>\n",
       "    <tr>\n",
       "      <th>2</th>\n",
       "      <td>28</td>\n",
       "      <td>f</td>\n",
       "      <td>no answer</td>\n",
       "      <td>9</td>\n",
       "      <td>28</td>\n",
       "      <td>2</td>\n",
       "      <td>1</td>\n",
       "    </tr>\n",
       "    <tr>\n",
       "      <th>3</th>\n",
       "      <td>24</td>\n",
       "      <td>m</td>\n",
       "      <td>1</td>\n",
       "      <td>4</td>\n",
       "      <td>26</td>\n",
       "      <td>2</td>\n",
       "      <td>1</td>\n",
       "    </tr>\n",
       "    <tr>\n",
       "      <th>4</th>\n",
       "      <td>25</td>\n",
       "      <td>m</td>\n",
       "      <td>no answer</td>\n",
       "      <td>2</td>\n",
       "      <td>23</td>\n",
       "      <td>1</td>\n",
       "      <td>2</td>\n",
       "    </tr>\n",
       "    <tr>\n",
       "      <th>...</th>\n",
       "      <td>...</td>\n",
       "      <td>...</td>\n",
       "      <td>...</td>\n",
       "      <td>...</td>\n",
       "      <td>...</td>\n",
       "      <td>...</td>\n",
       "      <td>...</td>\n",
       "    </tr>\n",
       "    <tr>\n",
       "      <th>195</th>\n",
       "      <td>45</td>\n",
       "      <td>f</td>\n",
       "      <td>0</td>\n",
       "      <td>3</td>\n",
       "      <td>86</td>\n",
       "      <td>4</td>\n",
       "      <td>3</td>\n",
       "    </tr>\n",
       "    <tr>\n",
       "      <th>196</th>\n",
       "      <td>23</td>\n",
       "      <td>f</td>\n",
       "      <td>1</td>\n",
       "      <td>2</td>\n",
       "      <td>27</td>\n",
       "      <td>2</td>\n",
       "      <td>1</td>\n",
       "    </tr>\n",
       "    <tr>\n",
       "      <th>197</th>\n",
       "      <td>66</td>\n",
       "      <td>f</td>\n",
       "      <td>1</td>\n",
       "      <td>32</td>\n",
       "      <td>11</td>\n",
       "      <td>1</td>\n",
       "      <td>2</td>\n",
       "    </tr>\n",
       "    <tr>\n",
       "      <th>198</th>\n",
       "      <td>49</td>\n",
       "      <td>m</td>\n",
       "      <td>0</td>\n",
       "      <td>4</td>\n",
       "      <td>30</td>\n",
       "      <td>2</td>\n",
       "      <td>1</td>\n",
       "    </tr>\n",
       "    <tr>\n",
       "      <th>199</th>\n",
       "      <td>45</td>\n",
       "      <td>m</td>\n",
       "      <td>0</td>\n",
       "      <td>1</td>\n",
       "      <td>147</td>\n",
       "      <td>4</td>\n",
       "      <td>3</td>\n",
       "    </tr>\n",
       "  </tbody>\n",
       "</table>\n",
       "<p>200 rows × 7 columns</p>\n",
       "</div>"
      ],
      "text/plain": [
       "     age gender marital_status  address  income  income_category  job_category\n",
       "0     55      f              1       12      72                3             3\n",
       "1     56      m              0       29     153                4             3\n",
       "2     28      f      no answer        9      28                2             1\n",
       "3     24      m              1        4      26                2             1\n",
       "4     25      m      no answer        2      23                1             2\n",
       "..   ...    ...            ...      ...     ...              ...           ...\n",
       "195   45      f              0        3      86                4             3\n",
       "196   23      f              1        2      27                2             1\n",
       "197   66      f              1       32      11                1             2\n",
       "198   49      m              0        4      30                2             1\n",
       "199   45      m              0        1     147                4             3\n",
       "\n",
       "[200 rows x 7 columns]"
      ]
     },
     "execution_count": 46,
     "metadata": {},
     "output_type": "execute_result"
    }
   ],
   "source": [
    "data.rename(columns = cols, inplace = True)\n",
    "data"
   ]
  },
  {
   "cell_type": "markdown",
   "id": "563b126b-8d2e-443b-8f31-facca3aa1bab",
   "metadata": {},
   "source": [
    "3. Display all the columns in the dataset"
   ]
  },
  {
   "cell_type": "code",
   "execution_count": 47,
   "id": "439b8133-9c13-471f-9a49-cd4d100a6f53",
   "metadata": {},
   "outputs": [
    {
     "data": {
      "text/plain": [
       "Index(['age', 'gender', 'marital_status', 'address', 'income',\n",
       "       'income_category', 'job_category'],\n",
       "      dtype='object')"
      ]
     },
     "execution_count": 47,
     "metadata": {},
     "output_type": "execute_result"
    }
   ],
   "source": [
    "data.columns"
   ]
  },
  {
   "cell_type": "markdown",
   "id": "bd127b33-36f2-450d-bf4a-61be840f30b9",
   "metadata": {},
   "source": [
    "4. Display some basic statistics about the numeric variables in the dataset"
   ]
  },
  {
   "cell_type": "code",
   "execution_count": 48,
   "id": "b537bc16-556d-429f-8675-4dd953da273b",
   "metadata": {},
   "outputs": [
    {
     "data": {
      "text/html": [
       "<div>\n",
       "<style scoped>\n",
       "    .dataframe tbody tr th:only-of-type {\n",
       "        vertical-align: middle;\n",
       "    }\n",
       "\n",
       "    .dataframe tbody tr th {\n",
       "        vertical-align: top;\n",
       "    }\n",
       "\n",
       "    .dataframe thead th {\n",
       "        text-align: right;\n",
       "    }\n",
       "</style>\n",
       "<table border=\"1\" class=\"dataframe\">\n",
       "  <thead>\n",
       "    <tr style=\"text-align: right;\">\n",
       "      <th></th>\n",
       "      <th>age</th>\n",
       "      <th>address</th>\n",
       "      <th>income</th>\n",
       "      <th>income_category</th>\n",
       "      <th>job_category</th>\n",
       "    </tr>\n",
       "  </thead>\n",
       "  <tbody>\n",
       "    <tr>\n",
       "      <th>count</th>\n",
       "      <td>200.000000</td>\n",
       "      <td>200.000000</td>\n",
       "      <td>200.000000</td>\n",
       "      <td>200.000000</td>\n",
       "      <td>200.000000</td>\n",
       "    </tr>\n",
       "    <tr>\n",
       "      <th>mean</th>\n",
       "      <td>42.475000</td>\n",
       "      <td>11.485000</td>\n",
       "      <td>76.305000</td>\n",
       "      <td>2.520000</td>\n",
       "      <td>1.950000</td>\n",
       "    </tr>\n",
       "    <tr>\n",
       "      <th>std</th>\n",
       "      <td>12.801122</td>\n",
       "      <td>10.365665</td>\n",
       "      <td>107.554647</td>\n",
       "      <td>1.065493</td>\n",
       "      <td>0.781379</td>\n",
       "    </tr>\n",
       "    <tr>\n",
       "      <th>min</th>\n",
       "      <td>19.000000</td>\n",
       "      <td>0.000000</td>\n",
       "      <td>11.000000</td>\n",
       "      <td>1.000000</td>\n",
       "      <td>1.000000</td>\n",
       "    </tr>\n",
       "    <tr>\n",
       "      <th>25%</th>\n",
       "      <td>32.000000</td>\n",
       "      <td>3.000000</td>\n",
       "      <td>27.000000</td>\n",
       "      <td>2.000000</td>\n",
       "      <td>1.000000</td>\n",
       "    </tr>\n",
       "    <tr>\n",
       "      <th>50%</th>\n",
       "      <td>43.000000</td>\n",
       "      <td>9.000000</td>\n",
       "      <td>44.500000</td>\n",
       "      <td>2.000000</td>\n",
       "      <td>2.000000</td>\n",
       "    </tr>\n",
       "    <tr>\n",
       "      <th>75%</th>\n",
       "      <td>51.000000</td>\n",
       "      <td>17.000000</td>\n",
       "      <td>76.000000</td>\n",
       "      <td>4.000000</td>\n",
       "      <td>3.000000</td>\n",
       "    </tr>\n",
       "    <tr>\n",
       "      <th>max</th>\n",
       "      <td>76.000000</td>\n",
       "      <td>51.000000</td>\n",
       "      <td>873.000000</td>\n",
       "      <td>4.000000</td>\n",
       "      <td>3.000000</td>\n",
       "    </tr>\n",
       "  </tbody>\n",
       "</table>\n",
       "</div>"
      ],
      "text/plain": [
       "              age     address      income  income_category  job_category\n",
       "count  200.000000  200.000000  200.000000       200.000000    200.000000\n",
       "mean    42.475000   11.485000   76.305000         2.520000      1.950000\n",
       "std     12.801122   10.365665  107.554647         1.065493      0.781379\n",
       "min     19.000000    0.000000   11.000000         1.000000      1.000000\n",
       "25%     32.000000    3.000000   27.000000         2.000000      1.000000\n",
       "50%     43.000000    9.000000   44.500000         2.000000      2.000000\n",
       "75%     51.000000   17.000000   76.000000         4.000000      3.000000\n",
       "max     76.000000   51.000000  873.000000         4.000000      3.000000"
      ]
     },
     "execution_count": 48,
     "metadata": {},
     "output_type": "execute_result"
    }
   ],
   "source": [
    "data.describe()"
   ]
  },
  {
   "cell_type": "markdown",
   "id": "9e3b4598-41f7-4f88-8789-87ce2f1131ce",
   "metadata": {
    "scrolled": true
   },
   "source": [
    "5. Display some basic statistics about the categorical variables in the dataset"
   ]
  },
  {
   "cell_type": "code",
   "execution_count": 49,
   "id": "b965ebc6-6625-4bf7-abb0-95d5013d6008",
   "metadata": {},
   "outputs": [
    {
     "data": {
      "text/html": [
       "<div>\n",
       "<style scoped>\n",
       "    .dataframe tbody tr th:only-of-type {\n",
       "        vertical-align: middle;\n",
       "    }\n",
       "\n",
       "    .dataframe tbody tr th {\n",
       "        vertical-align: top;\n",
       "    }\n",
       "\n",
       "    .dataframe thead th {\n",
       "        text-align: right;\n",
       "    }\n",
       "</style>\n",
       "<table border=\"1\" class=\"dataframe\">\n",
       "  <thead>\n",
       "    <tr style=\"text-align: right;\">\n",
       "      <th></th>\n",
       "      <th>gender</th>\n",
       "      <th>marital_status</th>\n",
       "    </tr>\n",
       "  </thead>\n",
       "  <tbody>\n",
       "    <tr>\n",
       "      <th>count</th>\n",
       "      <td>200</td>\n",
       "      <td>200</td>\n",
       "    </tr>\n",
       "    <tr>\n",
       "      <th>unique</th>\n",
       "      <td>4</td>\n",
       "      <td>3</td>\n",
       "    </tr>\n",
       "    <tr>\n",
       "      <th>top</th>\n",
       "      <td>f</td>\n",
       "      <td>0</td>\n",
       "    </tr>\n",
       "    <tr>\n",
       "      <th>freq</th>\n",
       "      <td>99</td>\n",
       "      <td>102</td>\n",
       "    </tr>\n",
       "  </tbody>\n",
       "</table>\n",
       "</div>"
      ],
      "text/plain": [
       "       gender  marital_status\n",
       "count     200             200\n",
       "unique      4               3\n",
       "top         f               0\n",
       "freq       99             102"
      ]
     },
     "execution_count": 49,
     "metadata": {},
     "output_type": "execute_result"
    }
   ],
   "source": [
    "data.describe(include = 'object')"
   ]
  },
  {
   "cell_type": "markdown",
   "id": "0458a95f-60f2-4741-af09-0684f4a0c053",
   "metadata": {},
   "source": [
    "6. What are the unique observations under gender?"
   ]
  },
  {
   "cell_type": "code",
   "execution_count": 50,
   "id": "b4e02a5b-a438-4e7f-867f-28a720263462",
   "metadata": {},
   "outputs": [
    {
     "data": {
      "text/plain": [
       "array(['f', 'm', '  f', '   m'], dtype=object)"
      ]
     },
     "execution_count": 50,
     "metadata": {},
     "output_type": "execute_result"
    }
   ],
   "source": [
    "unique_genders = data['gender'].unique()\n",
    "unique_genders"
   ]
  },
  {
   "cell_type": "markdown",
   "id": "65b0af65-7808-4510-9a44-431c016458e5",
   "metadata": {},
   "source": [
    "7. Can you fix any problems observed under the gender, give brief explanations why and how"
   ]
  },
  {
   "cell_type": "code",
   "execution_count": 57,
   "id": "f6141888-e170-49fb-b45f-9ae366fdd2f9",
   "metadata": {},
   "outputs": [
    {
     "data": {
      "text/plain": [
       "array(['f', 'm', '  f', '   m'], dtype=object)"
      ]
     },
     "execution_count": 57,
     "metadata": {},
     "output_type": "execute_result"
    }
   ],
   "source": [
    "data = data.replace(to_replace = ' f', value = 'f')\n",
    "data = data.replace(to_replace = ' m', value = 'm')\n",
    "unique_genders"
   ]
  },
  {
   "cell_type": "markdown",
   "id": "e886e9d1-704c-4843-b310-624e5b60f480",
   "metadata": {},
   "source": [
    "8. How many observations have 'no answer' for marital status?"
   ]
  },
  {
   "cell_type": "code",
   "execution_count": 35,
   "id": "68f20f6d-0731-4497-af1d-cc7b76e96c42",
   "metadata": {},
   "outputs": [
    {
     "name": "stdout",
     "output_type": "stream",
     "text": [
      "Number of observations with 'no answer' for marital status: 5\n"
     ]
    }
   ],
   "source": [
    "no_answer_count = (data['marital_status'] == 'no answer').sum()\n",
    "print(\"Number of observations with 'no answer' for marital status:\", no_answer_count)"
   ]
  },
  {
   "cell_type": "markdown",
   "id": "3258c185-e071-4281-8dbc-0751a1ac71c2",
   "metadata": {},
   "source": [
    "9. Write some piece of code to return only numeric variables from the dataset"
   ]
  },
  {
   "cell_type": "code",
   "execution_count": 14,
   "id": "aa90f749-7cd3-4212-946f-17e311ededf2",
   "metadata": {},
   "outputs": [
    {
     "data": {
      "text/html": [
       "<div>\n",
       "<style scoped>\n",
       "    .dataframe tbody tr th:only-of-type {\n",
       "        vertical-align: middle;\n",
       "    }\n",
       "\n",
       "    .dataframe tbody tr th {\n",
       "        vertical-align: top;\n",
       "    }\n",
       "\n",
       "    .dataframe thead th {\n",
       "        text-align: right;\n",
       "    }\n",
       "</style>\n",
       "<table border=\"1\" class=\"dataframe\">\n",
       "  <thead>\n",
       "    <tr style=\"text-align: right;\">\n",
       "      <th></th>\n",
       "      <th>Age</th>\n",
       "      <th>Address</th>\n",
       "      <th>Income</th>\n",
       "      <th>Income Category</th>\n",
       "      <th>Job Category</th>\n",
       "    </tr>\n",
       "  </thead>\n",
       "  <tbody>\n",
       "    <tr>\n",
       "      <th>0</th>\n",
       "      <td>55</td>\n",
       "      <td>12</td>\n",
       "      <td>72</td>\n",
       "      <td>3</td>\n",
       "      <td>3</td>\n",
       "    </tr>\n",
       "    <tr>\n",
       "      <th>1</th>\n",
       "      <td>56</td>\n",
       "      <td>29</td>\n",
       "      <td>153</td>\n",
       "      <td>4</td>\n",
       "      <td>3</td>\n",
       "    </tr>\n",
       "    <tr>\n",
       "      <th>2</th>\n",
       "      <td>28</td>\n",
       "      <td>9</td>\n",
       "      <td>28</td>\n",
       "      <td>2</td>\n",
       "      <td>1</td>\n",
       "    </tr>\n",
       "    <tr>\n",
       "      <th>3</th>\n",
       "      <td>24</td>\n",
       "      <td>4</td>\n",
       "      <td>26</td>\n",
       "      <td>2</td>\n",
       "      <td>1</td>\n",
       "    </tr>\n",
       "    <tr>\n",
       "      <th>4</th>\n",
       "      <td>25</td>\n",
       "      <td>2</td>\n",
       "      <td>23</td>\n",
       "      <td>1</td>\n",
       "      <td>2</td>\n",
       "    </tr>\n",
       "    <tr>\n",
       "      <th>...</th>\n",
       "      <td>...</td>\n",
       "      <td>...</td>\n",
       "      <td>...</td>\n",
       "      <td>...</td>\n",
       "      <td>...</td>\n",
       "    </tr>\n",
       "    <tr>\n",
       "      <th>195</th>\n",
       "      <td>45</td>\n",
       "      <td>3</td>\n",
       "      <td>86</td>\n",
       "      <td>4</td>\n",
       "      <td>3</td>\n",
       "    </tr>\n",
       "    <tr>\n",
       "      <th>196</th>\n",
       "      <td>23</td>\n",
       "      <td>2</td>\n",
       "      <td>27</td>\n",
       "      <td>2</td>\n",
       "      <td>1</td>\n",
       "    </tr>\n",
       "    <tr>\n",
       "      <th>197</th>\n",
       "      <td>66</td>\n",
       "      <td>32</td>\n",
       "      <td>11</td>\n",
       "      <td>1</td>\n",
       "      <td>2</td>\n",
       "    </tr>\n",
       "    <tr>\n",
       "      <th>198</th>\n",
       "      <td>49</td>\n",
       "      <td>4</td>\n",
       "      <td>30</td>\n",
       "      <td>2</td>\n",
       "      <td>1</td>\n",
       "    </tr>\n",
       "    <tr>\n",
       "      <th>199</th>\n",
       "      <td>45</td>\n",
       "      <td>1</td>\n",
       "      <td>147</td>\n",
       "      <td>4</td>\n",
       "      <td>3</td>\n",
       "    </tr>\n",
       "  </tbody>\n",
       "</table>\n",
       "<p>200 rows × 5 columns</p>\n",
       "</div>"
      ],
      "text/plain": [
       "     Age  Address  Income  Income Category  Job Category\n",
       "0     55       12      72                3             3\n",
       "1     56       29     153                4             3\n",
       "2     28        9      28                2             1\n",
       "3     24        4      26                2             1\n",
       "4     25        2      23                1             2\n",
       "..   ...      ...     ...              ...           ...\n",
       "195   45        3      86                4             3\n",
       "196   23        2      27                2             1\n",
       "197   66       32      11                1             2\n",
       "198   49        4      30                2             1\n",
       "199   45        1     147                4             3\n",
       "\n",
       "[200 rows x 5 columns]"
      ]
     },
     "execution_count": 14,
     "metadata": {},
     "output_type": "execute_result"
    }
   ],
   "source": [
    "numeric_variables = data.select_dtypes(include=['int', 'float'])\n",
    "numeric_variables"
   ]
  },
  {
   "cell_type": "markdown",
   "id": "e2432732-c4ea-4ec1-8d7e-03bd7d90e717",
   "metadata": {},
   "source": [
    "10. Are there any missing values in the dataset?"
   ]
  },
  {
   "cell_type": "code",
   "execution_count": 15,
   "id": "647ad424-4d40-4a0f-8a44-39cd2374d7db",
   "metadata": {},
   "outputs": [
    {
     "data": {
      "text/plain": [
       "Age                0\n",
       "Marital Status     0\n",
       "Address            0\n",
       "Income             0\n",
       "Income Category    0\n",
       "Job Category       0\n",
       "Gender_   m        0\n",
       "Gender_  f         0\n",
       "Gender_f           0\n",
       "Gender_m           0\n",
       "dtype: int64"
      ]
     },
     "execution_count": 15,
     "metadata": {},
     "output_type": "execute_result"
    }
   ],
   "source": [
    "missing_values = data.isnull().sum()\n",
    "missing_values"
   ]
  },
  {
   "cell_type": "markdown",
   "id": "ed949d4c-928f-4c6e-b485-8779abe9a2b9",
   "metadata": {},
   "source": [
    "11. Are there any outliers in the income variable?"
   ]
  },
  {
   "cell_type": "code",
   "execution_count": 20,
   "id": "9fd402ce-71e3-43da-9f25-7664a33e7483",
   "metadata": {},
   "outputs": [
    {
     "data": {
      "image/png": "[encoded data removed]",
      "text/plain": [
       "<Figure size 800x600 with 1 Axes>"
      ]
     },
     "metadata": {},
     "output_type": "display_data"
    }
   ],
   "source": [
    "#import matplotlib.pyplot as plt\n",
    "# Creating a box plot to visualize the distribution of income\n",
    "plt.figure(figsize=(8, 6))\n",
    "plt.boxplot(data['Income'])\n",
    "plt.title('Box Plot of Income')\n",
    "plt.ylabel('Income')\n",
    "plt.show()"
   ]
  },
  {
   "cell_type": "markdown",
   "id": "f5e8da53-ea73-483d-a835-3661e15cc803",
   "metadata": {},
   "source": [
    "12. Investigate the relationship between age and income"
   ]
  },
  {
   "cell_type": "code",
   "execution_count": null,
   "id": "835391d9-a60a-4a92-8969-846c0d3afebb",
   "metadata": {},
   "outputs": [
    {
     "data": {
      "image/png": "[encoded data removed]",
      "text/plain": [
       "<Figure size 640x480 with 1 Axes>"
      ]
     },
     "metadata": {},
     "output_type": "display_data"
    }
   ],
   "source": [
    "plt.scatter(data['Age'], data['Income'], alpha=0)\n",
    "plt.xlabel('Age')\n",
    "plt.ylabel('Income')\n",
    "plt.title('Age vs. Income')\n",
    "plt.show()"
   ]
  },
  {
   "cell_type": "markdown",
   "id": "2c571b52-b72c-4d3e-8642-a24b31e78a78",
   "metadata": {
    "scrolled": true
   },
   "source": [
    "13. How many people earn more than 300 units?"
   ]
  },
  {
   "cell_type": "code",
   "execution_count": 42,
   "id": "adbbd2d7-ab0a-44b7-806f-b79d51a4f6c9",
   "metadata": {},
   "outputs": [
    {
     "name": "stdout",
     "output_type": "stream",
     "text": [
      "Number of people earning more than 300 units: 8\n"
     ]
    }
   ],
   "source": [
    "num_high_income = data[data['Income'] > 300].shape[0]\n",
    "print(\"Number of people earning more than 300 units:\", num_high_income)"
   ]
  },
  {
   "cell_type": "markdown",
   "id": "d6e8f23f-cd93-476a-8c40-8479ff5d76f7",
   "metadata": {},
   "source": [
    "14. What data type is the marital status?"
   ]
  },
  {
   "cell_type": "code",
   "execution_count": 39,
   "id": "62c9799c-3773-49de-b163-d6ca67a30e73",
   "metadata": {},
   "outputs": [
    {
     "name": "stdout",
     "output_type": "stream",
     "text": [
      "object\n"
     ]
    }
   ],
   "source": [
    "print(data['Marital Status'].dtype)\n",
    "\n",
    "#Also using:\n",
    "#data['Marital Status'].info()"
   ]
  },
  {
   "cell_type": "markdown",
   "id": "ebf3daf9-b646-4359-b80b-1a12c22d076b",
   "metadata": {},
   "source": [
    "15. Create dummy variables for gender"
   ]
  },
  {
   "cell_type": "code",
   "execution_count": 25,
   "id": "33f4b5b3-be0f-4c34-b314-9df928ab5990",
   "metadata": {},
   "outputs": [
    {
     "ename": "KeyError",
     "evalue": "\"None of [Index(['Gender'], dtype='object')] are in the [columns]\"",
     "output_type": "error",
     "traceback": [
      "\u001b[1;31m---------------------------------------------------------------------------\u001b[0m",
      "\u001b[1;31mKeyError\u001b[0m                                  Traceback (most recent call last)",
      "Cell \u001b[1;32mIn[25], line 2\u001b[0m\n\u001b[0;32m      1\u001b[0m \u001b[38;5;66;03m# Creating dummy variables for gender\u001b[39;00m\n\u001b[1;32m----> 2\u001b[0m data \u001b[38;5;241m=\u001b[39m \u001b[43mpd\u001b[49m\u001b[38;5;241;43m.\u001b[39;49m\u001b[43mget_dummies\u001b[49m\u001b[43m(\u001b[49m\u001b[43mdata\u001b[49m\u001b[43m,\u001b[49m\u001b[43m \u001b[49m\u001b[43mcolumns\u001b[49m\u001b[38;5;241;43m=\u001b[39;49m\u001b[43m[\u001b[49m\u001b[38;5;124;43m\"\u001b[39;49m\u001b[38;5;124;43mGender\u001b[39;49m\u001b[38;5;124;43m\"\u001b[39;49m\u001b[43m]\u001b[49m\u001b[43m)\u001b[49m\n\u001b[0;32m      3\u001b[0m data\n",
      "File \u001b[1;32m~\\Desktop\\python_data_analysis\\dataidea\\Lib\\site-packages\\pandas\\core\\reshape\\encoding.py:169\u001b[0m, in \u001b[0;36mget_dummies\u001b[1;34m(data, prefix, prefix_sep, dummy_na, columns, sparse, drop_first, dtype)\u001b[0m\n\u001b[0;32m    167\u001b[0m     \u001b[38;5;28;01mraise\u001b[39;00m \u001b[38;5;167;01mTypeError\u001b[39;00m(\u001b[38;5;124m\"\u001b[39m\u001b[38;5;124mInput must be a list-like for parameter `columns`\u001b[39m\u001b[38;5;124m\"\u001b[39m)\n\u001b[0;32m    168\u001b[0m \u001b[38;5;28;01melse\u001b[39;00m:\n\u001b[1;32m--> 169\u001b[0m     data_to_encode \u001b[38;5;241m=\u001b[39m \u001b[43mdata\u001b[49m\u001b[43m[\u001b[49m\u001b[43mcolumns\u001b[49m\u001b[43m]\u001b[49m\n\u001b[0;32m    171\u001b[0m \u001b[38;5;66;03m# validate prefixes and separator to avoid silently dropping cols\u001b[39;00m\n\u001b[0;32m    172\u001b[0m \u001b[38;5;28;01mdef\u001b[39;00m \u001b[38;5;21mcheck_len\u001b[39m(item, name: \u001b[38;5;28mstr\u001b[39m):\n",
      "File \u001b[1;32m~\\Desktop\\python_data_analysis\\dataidea\\Lib\\site-packages\\pandas\\core\\frame.py:4096\u001b[0m, in \u001b[0;36mDataFrame.__getitem__\u001b[1;34m(self, key)\u001b[0m\n\u001b[0;32m   4094\u001b[0m     \u001b[38;5;28;01mif\u001b[39;00m is_iterator(key):\n\u001b[0;32m   4095\u001b[0m         key \u001b[38;5;241m=\u001b[39m \u001b[38;5;28mlist\u001b[39m(key)\n\u001b[1;32m-> 4096\u001b[0m     indexer \u001b[38;5;241m=\u001b[39m \u001b[38;5;28;43mself\u001b[39;49m\u001b[38;5;241;43m.\u001b[39;49m\u001b[43mcolumns\u001b[49m\u001b[38;5;241;43m.\u001b[39;49m\u001b[43m_get_indexer_strict\u001b[49m\u001b[43m(\u001b[49m\u001b[43mkey\u001b[49m\u001b[43m,\u001b[49m\u001b[43m \u001b[49m\u001b[38;5;124;43m\"\u001b[39;49m\u001b[38;5;124;43mcolumns\u001b[39;49m\u001b[38;5;124;43m\"\u001b[39;49m\u001b[43m)\u001b[49m[\u001b[38;5;241m1\u001b[39m]\n\u001b[0;32m   4098\u001b[0m \u001b[38;5;66;03m# take() does not accept boolean indexers\u001b[39;00m\n\u001b[0;32m   4099\u001b[0m \u001b[38;5;28;01mif\u001b[39;00m \u001b[38;5;28mgetattr\u001b[39m(indexer, \u001b[38;5;124m\"\u001b[39m\u001b[38;5;124mdtype\u001b[39m\u001b[38;5;124m\"\u001b[39m, \u001b[38;5;28;01mNone\u001b[39;00m) \u001b[38;5;241m==\u001b[39m \u001b[38;5;28mbool\u001b[39m:\n",
      "File \u001b[1;32m~\\Desktop\\python_data_analysis\\dataidea\\Lib\\site-packages\\pandas\\core\\indexes\\base.py:6200\u001b[0m, in \u001b[0;36mIndex._get_indexer_strict\u001b[1;34m(self, key, axis_name)\u001b[0m\n\u001b[0;32m   6197\u001b[0m \u001b[38;5;28;01melse\u001b[39;00m:\n\u001b[0;32m   6198\u001b[0m     keyarr, indexer, new_indexer \u001b[38;5;241m=\u001b[39m \u001b[38;5;28mself\u001b[39m\u001b[38;5;241m.\u001b[39m_reindex_non_unique(keyarr)\n\u001b[1;32m-> 6200\u001b[0m \u001b[38;5;28;43mself\u001b[39;49m\u001b[38;5;241;43m.\u001b[39;49m\u001b[43m_raise_if_missing\u001b[49m\u001b[43m(\u001b[49m\u001b[43mkeyarr\u001b[49m\u001b[43m,\u001b[49m\u001b[43m \u001b[49m\u001b[43mindexer\u001b[49m\u001b[43m,\u001b[49m\u001b[43m \u001b[49m\u001b[43maxis_name\u001b[49m\u001b[43m)\u001b[49m\n\u001b[0;32m   6202\u001b[0m keyarr \u001b[38;5;241m=\u001b[39m \u001b[38;5;28mself\u001b[39m\u001b[38;5;241m.\u001b[39mtake(indexer)\n\u001b[0;32m   6203\u001b[0m \u001b[38;5;28;01mif\u001b[39;00m \u001b[38;5;28misinstance\u001b[39m(key, Index):\n\u001b[0;32m   6204\u001b[0m     \u001b[38;5;66;03m# GH 42790 - Preserve name from an Index\u001b[39;00m\n",
      "File \u001b[1;32m~\\Desktop\\python_data_analysis\\dataidea\\Lib\\site-packages\\pandas\\core\\indexes\\base.py:6249\u001b[0m, in \u001b[0;36mIndex._raise_if_missing\u001b[1;34m(self, key, indexer, axis_name)\u001b[0m\n\u001b[0;32m   6247\u001b[0m \u001b[38;5;28;01mif\u001b[39;00m nmissing:\n\u001b[0;32m   6248\u001b[0m     \u001b[38;5;28;01mif\u001b[39;00m nmissing \u001b[38;5;241m==\u001b[39m \u001b[38;5;28mlen\u001b[39m(indexer):\n\u001b[1;32m-> 6249\u001b[0m         \u001b[38;5;28;01mraise\u001b[39;00m \u001b[38;5;167;01mKeyError\u001b[39;00m(\u001b[38;5;124mf\u001b[39m\u001b[38;5;124m\"\u001b[39m\u001b[38;5;124mNone of [\u001b[39m\u001b[38;5;132;01m{\u001b[39;00mkey\u001b[38;5;132;01m}\u001b[39;00m\u001b[38;5;124m] are in the [\u001b[39m\u001b[38;5;132;01m{\u001b[39;00maxis_name\u001b[38;5;132;01m}\u001b[39;00m\u001b[38;5;124m]\u001b[39m\u001b[38;5;124m\"\u001b[39m)\n\u001b[0;32m   6251\u001b[0m     not_found \u001b[38;5;241m=\u001b[39m \u001b[38;5;28mlist\u001b[39m(ensure_index(key)[missing_mask\u001b[38;5;241m.\u001b[39mnonzero()[\u001b[38;5;241m0\u001b[39m]]\u001b[38;5;241m.\u001b[39munique())\n\u001b[0;32m   6252\u001b[0m     \u001b[38;5;28;01mraise\u001b[39;00m \u001b[38;5;167;01mKeyError\u001b[39;00m(\u001b[38;5;124mf\u001b[39m\u001b[38;5;124m\"\u001b[39m\u001b[38;5;132;01m{\u001b[39;00mnot_found\u001b[38;5;132;01m}\u001b[39;00m\u001b[38;5;124m not in index\u001b[39m\u001b[38;5;124m\"\u001b[39m)\n",
      "\u001b[1;31mKeyError\u001b[0m: \"None of [Index(['Gender'], dtype='object')] are in the [columns]\""
     ]
    }
   ],
   "source": [
    "# Creating dummy variables for gender\n",
    "data = pd.get_dummies(data, columns=[\"gender\"])\n",
    "data"
   ]
  },
  {
   "cell_type": "markdown",
   "id": "e3b6b677-3fc6-4189-a4ca-f4a3724d2b10",
   "metadata": {},
   "source": [
    "<div style=\"font-style: futura; background:#67FFF0; color:#000;\n",
    "    padding:15px\">\n",
    "    <h1>Do you seriously want to learn Programming and Data Analysis with Python?</h1>\n",
    "    <p>\n",
    "If you’re serious about learning Programming, Data Analysis with Python and getting prepared for Data Science roles, I highly encourage you to enroll in my Programming for Data Science Course, which I've taught to hundreds of students. Don’t waste your time following disconnected, outdated tutorials\n",
    "    </p>\n",
    "    <p>\n",
    "    My Complete Programming for Data Science Course has everything you need in one place. \n",
    "    </p>\n",
    "    <ul>\n",
    "        The course offers:\n",
    "        <li>Duration: Usually 3-4 months</li>\n",
    "        <li>Sessions: Four times a week (one on one)</li>\n",
    "        <li>Location: Online or/and at UMF House, Sir Apollo Kagwa Road</li>\n",
    "    </ul>\n",
    "    <ul>\n",
    "        What you'l learn:\n",
    "        <li>Fundamentals of programming</li>\n",
    "        <li>Data manipulation and analysis </li>\n",
    "        <li>Visualization techniques</li>\n",
    "        <li>Introduction to machine learning</li>\n",
    "        <li>Database Management with SQL (optional)</li>\n",
    "        <li>Web Development with Django (optional)</li>\n",
    "    </ul>\n",
    "    <ul style=\"list-style: none\">\n",
    "    <li>Best</li>\n",
    "    <li>Juma Shafara</li>\n",
    "    <li>ML Software Developer, Coding Instructor</li>\n",
    "    <li>\n",
    "    <a href=\"mailto:jumashafara0@gmail.com\">jumashafara0@gmail.com</\n",
    "    </li>\n",
    "        <li>\n",
    "    <a href=\"tel:+256701520768\">+256701520768</a> or <a href=\"tel:+256771754118\">+256771754118</a> \n",
    "        </li>\n",
    "    </ul\n",
    "    <div>\n",
    "        <img src='../assets/profile.jpg' style=\"width:100px\" alt=\"Juma Shafara\">\n",
    "        <img src='../assets/dataidea-logo.png' style=\"width:100px\" alt=\"DATAIDEA\">\n",
    "    </div>\n",
    "</div>\n"
   ]
  },
  {
   "cell_type": "code",
   "execution_count": null,
   "id": "5866d5e6-bdb3-4422-b6ad-87581647a7de",
   "metadata": {},
   "outputs": [],
   "source": []
  }
 ],
 "metadata": {
  "kernelspec": {
   "display_name": "Python 3 (ipykernel)",
   "language": "python",
   "name": "python3"
  },
  "language_info": {
   "codemirror_mode": {
    "name": "ipython",
    "version": 3
   },
   "file_extension": ".py",
   "mimetype": "text/x-python",
   "name": "python",
   "nbconvert_exporter": "python",
   "pygments_lexer": "ipython3",
   "version": "3.11.3"
  }
 },
 "nbformat": 4,
 "nbformat_minor": 5
}
